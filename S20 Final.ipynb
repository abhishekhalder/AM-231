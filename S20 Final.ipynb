{
 "cells": [
  {
   "cell_type": "markdown",
   "metadata": {},
   "source": [
    "# Problem 1 [50 points] Modeling and controllability\n",
    "\n",
    "<br />\n",
    "<img src=\"Trailer.png\" width=\"700\">\n",
    "<center>Figure 1: A car with multiple direct-hooked passive trailers.</center>\n",
    "\n",
    "Consider a car with $n\\in\\mathbb{N}$ direct-hooked passive trailers, which you may have seen in the airports carrying passenger luggage (Fig. 1). To mathematically model this system, we represent both the car and the trailers as having two driving wheels connected by an axle, as shown in Fig. 2.\n",
    "<img src=\"TarilerModel.png\" width=\"700\">\n",
    "<center>Figure 2: Model of a car with $n$ trailers. The inertial coordinate system is denoted as $(i_x,i_y)$.</center>\n",
    "<br />\n",
    "Each trailer is hooked up in the middle point of the axle of the previous body by a rigid bar of length $\\ell = 1$. To describe the state, we fix an inertial coordinate system, shown in the left bottom corner of Fig. 2. Notice that the connecting rod is parallel to the wheels since the rod + axle for any trailer is a rigid assembly.\n",
    "\n",
    "Suppose $(x, y)$ is the coordinate of the mid-point of the axle of the last trailer; $\\theta_n$ is the angle that the car’s pair of wheels make with the inertial horizontal axis; and $\\theta_{i}$, $0\\leq i \\leq n − 1$, is the angle that the $(n − i)$-th trailer’s pair of wheels make with the inertial horizontal axis. The state vector of the system is\n",
    "\n",
    "$$\\underline{x} := \\left(x,y,\\theta_{0},\\theta_{1}, ..., \\theta_{n}\\right)^{\\top}.$$\n",
    "\n",
    "The control vector consists of the car’s translational velocity $v$ and angular velocity $\\omega$, i.e., $\\underline{u} := (v, \\omega)^{\\top}$, shown in blue in Fig. 2.\n",
    "\n",
    "The wheels of each body (1 car and $n$ trailers) are constrained to roll without slipping, i.e., the velocity of each body is parallel to the direction of its wheels. Let $f_{n} := 1$, and\n",
    "$$\n",
    "f_{i}:=\\cos \\left(\\theta_{i+1}-\\theta_{i}\\right) \\cos \\left(\\theta_{i+2}-\\theta_{i+1}\\right) \\ldots \\cos \\left(\\theta_{n}-\\theta_{n-1}\\right)=\\prod_{j=i+1}^{n} \\cos \\left(\\theta_{j}-\\theta_{j-1}\\right), \\quad 0 \\leq i \\leq n-1.\n",
    "$$"
   ]
  },
  {
   "cell_type": "markdown",
   "metadata": {},
   "source": [
    "## (a) [3 points] State space\n",
    "\n",
    "**Clearly write down** the state space $\\mathcal{X}$ as a manifold. **Explain** your answer."
   ]
  },
  {
   "cell_type": "markdown",
   "metadata": {},
   "source": [
    "## (b) [25 points] Standard control affine form\n",
    "\n",
    "**Prove that** the control system corresponding to the above model can be expressed in the drift-free form:\n",
    "\n",
    "$$\n",
    "\\underline{\\dot{x}}=g_{1}(\\underline{x}) u_{1}+g_{2}(\\underline{x}) u_{2},\n",
    "$$\n",
    "where the input vector fields are\n",
    "\n",
    "$$\\begin{align*}\n",
    "g_{1}(\\underline{x}) &= \\left[f_{0} \\cos \\theta_{0}, f_{0} \\sin \\theta_{0}, f_{1} \\sin \\left(\\theta_{1}-\\theta_{0}\\right), \\ldots, f_{i+1} \\sin \\left(\\theta_{i+1}-\\theta_{i}\\right), \\ldots, f_{n} \\sin \\left(\\theta_{n}-\\theta_{n-1}\\right), 0\\right]^{\\top},\\\\\n",
    "g_{2}(\\underline{x}) &= [\\underbrace{0, \\ldots, 0}_{(n+2) \\text { times }}, 1]^{\\top}.\n",
    "\\end{align*}$$"
   ]
  },
  {
   "cell_type": "markdown",
   "metadata": {},
   "source": [
    "## (c) [20 points] The case $n=1$\n",
    "\n",
    "For the special case of $n = 1$, i.e., the car with one trailer (for example, garbage truck, fire truck etc.), **prove that** the system is globally controllable."
   ]
  },
  {
   "cell_type": "markdown",
   "metadata": {},
   "source": [
    "## (d) [2 points] Degree of nonholonomy\n",
    "\n",
    "What is the degree of nonholonomy for the case in part (c)? **Give reasons**."
   ]
  },
  {
   "cell_type": "markdown",
   "metadata": {},
   "source": [
    "# Problem 2 [50 points] Controller synthesis\n",
    "\n",
    "Consider the single input nonlinear system\n",
    "\n",
    "$$\\begin{array}{l}\n",
    "\\dot{x}_{1}=x_{1}+\\frac{x_{2}}{1+x_{1}^{2}}, \\\\\n",
    "\\dot{x}_{2}=-x_{2}+u.\n",
    "\\end{array}$$"
   ]
  },
  {
   "cell_type": "markdown",
   "metadata": {},
   "source": [
    "## (a) [20 points] Feedback linearization\n",
    "\n",
    "**Design** globally stabilizing feedback controller for the origin using feedback linearization. Clearly write and explain all your calculations."
   ]
  },
  {
   "cell_type": "markdown",
   "metadata": {},
   "source": [
    "## (b) [20 points] Backstepping\n",
    "\n",
    "**Design** globally stabilizing feedback controller for the origin using backstepping. Clearly write and explain all your calculations."
   ]
  },
  {
   "cell_type": "markdown",
   "metadata": {},
   "source": [
    "## (c) [10 points] Numerical comparison\n",
    "\n",
    "**Compare the two controllers** in parts (a) and (b) by plotting $x_1$ versus $t$, and $x_2$ versus $t$, for the respective closed-loop systems, starting from the same initial condition.  **Also plot** $u$ (in the vertical axis) versus $\\parallel x \\parallel_{2}$ (in the horizontal axis) for the two controllers and comment on their performance."
   ]
  },
  {
   "cell_type": "code",
   "execution_count": null,
   "metadata": {},
   "outputs": [],
   "source": []
  }
 ],
 "metadata": {
  "kernelspec": {
   "display_name": "Python 2",
   "language": "python",
   "name": "python2"
  },
  "language_info": {
   "codemirror_mode": {
    "name": "ipython",
    "version": 2
   },
   "file_extension": ".py",
   "mimetype": "text/x-python",
   "name": "python",
   "nbconvert_exporter": "python",
   "pygments_lexer": "ipython2",
   "version": "2.7.16"
  }
 },
 "nbformat": 4,
 "nbformat_minor": 2
}
