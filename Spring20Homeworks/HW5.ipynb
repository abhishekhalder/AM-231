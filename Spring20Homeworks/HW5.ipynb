{
 "cells": [
  {
   "cell_type": "markdown",
   "metadata": {},
   "source": [
    "# Problem 1. [50 points] Passivity\n",
    "\n",
    "<br />\n",
    "\n",
    "<img src=\"Passivity.png\">\n",
    "\n",
    "<br />\n",
    "\n",
    "Consider the interconnection shown above where $u,y\\in\\mathbb{R}^{m}$, and $\\widetilde{u},\\widetilde{y}\\in\\mathbb{R}^{p}$. The system $S$ is known to be passive from $u$ to $y$ with internal state $x\\in\\mathbb{R}^{n}$. The blocks before and after $S$ are $x$-dependent matrices $M(x)$ and $M^{\\top}(x)$, respectively, of appropriate dimensions. "
   ]
  },
  {
   "cell_type": "markdown",
   "metadata": {},
   "source": [
    "## (a) [15 points] Which of the following option(s) is/are true? Give reasons in support of your answer.\n",
    "\n",
    "**Option 1:** \"The overall system from $\\widetilde{u}$ to $\\widetilde{y}$ is passive but must have a different storage function than $S$\".\n",
    "\n",
    "**Option 2:** \"The overall system from $\\widetilde{u}$ to $\\widetilde{y}$ is passive and has the same storage function as $S$\".\n",
    "\n",
    "**Option 3:** \"The overall system from $\\widetilde{u}$ to $\\widetilde{y}$ is passive only if $m=p$\".\n",
    "\n",
    "**Option 4:** \"The overall system from $\\widetilde{u}$ to $\\widetilde{y}$ is NOT passive\"."
   ]
  },
  {
   "cell_type": "markdown",
   "metadata": {},
   "source": [
    "## (b) [20 + 15 = 35 points] A system with saturation nonlinearity\n",
    "\n",
    "Consider the scalar nonlinear system $\\dot{x} = f(x,u) := -2x + {\\rm{sat}}(x) + u$, $y = x$, where the **saturation function**\n",
    "\n",
    "$${\\rm{sat}}(x) := \\begin{cases}\n",
    "x & \\text{if}\\quad |x| \\leq 1,\\\\\n",
    "{\\rm{sgn}}(x) &\\text{if}\\quad |x| > 1,\n",
    "\\end{cases}\n",
    "$$\n",
    "\n",
    "and ${\\rm{sgn}}(x)$ is the sign function.\n",
    "\n",
    "**Prove or disprove:** The nonlinear system in part (b) is passive. **Prove or disprove:** The nonlinear system in part (b) is strictly passive."
   ]
  },
  {
   "cell_type": "markdown",
   "metadata": {},
   "source": [
    "# Problem 2. [50 points] Markus-Yamabe revisited"
   ]
  },
  {
   "cell_type": "markdown",
   "metadata": {},
   "source": [
    "Let us revisit the Markus-Yamabe conjecture from Lec. 12, p. 2-3, in a **specialized setting**. Consider a $C^{2}$ function $\\phi:\\mathbb{R}^{n}\\mapsto\\mathbb{R}$ such that the nonlinear system $\\dot{x} = \\nabla \\phi$ has origin as a fixed point. Denote the Hessian of $\\phi(x)$ as ${\\rm{Hess}}(\\phi(x))$."
   ]
  },
  {
   "cell_type": "markdown",
   "metadata": {},
   "source": [
    "## (a) [15 points] Vector field in terms of Jacobian\n",
    "\n",
    "For any smooth vector field $\\dot{x}=f(x)$, $x\\in\\mathbb{R}^{n}$, denote its Jacobian matrix as $Df$. Prove that\n",
    "\n",
    "$$f(x) = \\bigg\\{\\displaystyle\\int_{0}^{1}Df(s x)\\:{\\rm{d}}s\\bigg\\}x.$$\n",
    "\n",
    "(Hint: start from the RHS integral by introducing a change-of-variable $y = sx \\Rightarrow {\\rm{d}}y = x {\\rm{d}}s$.)"
   ]
  },
  {
   "cell_type": "markdown",
   "metadata": {},
   "source": [
    "## (b) [10 points] Gradient in terms of Hessian\n",
    "\n",
    "Specialize part (a) for $f = \\nabla\\phi$ to prove the identity:\n",
    "$$\\nabla\\phi(x) = \\bigg\\{\\displaystyle\\int_{0}^{1}{\\rm{Hess}}(\\phi(s x))\\:{\\rm{d}}s\\bigg\\}x.$$"
   ]
  },
  {
   "cell_type": "markdown",
   "metadata": {},
   "source": [
    "## (c) [25 points] Hurwitz Jacobian implies GAS origin\n",
    "\n",
    "Construct a Lyapunov function, and use part (b) to prove that the Markus-Yamabe conjecture holds for $\\dot{x} = \\nabla\\phi$ for $x\\in\\mathbb{R}^{n}$.\n",
    "\n",
    "(Hint: use the obvious Lyapunov function that comes to your mind without much thought. Finish your proof by invoking Barbashin-Krasovskii.)"
   ]
  },
  {
   "cell_type": "code",
   "execution_count": null,
   "metadata": {},
   "outputs": [],
   "source": []
  }
 ],
 "metadata": {
  "kernelspec": {
   "display_name": "Python 2",
   "language": "python",
   "name": "python2"
  },
  "language_info": {
   "codemirror_mode": {
    "name": "ipython",
    "version": 2
   },
   "file_extension": ".py",
   "mimetype": "text/x-python",
   "name": "python",
   "nbconvert_exporter": "python",
   "pygments_lexer": "ipython2",
   "version": "2.7.16"
  }
 },
 "nbformat": 4,
 "nbformat_minor": 2
}
