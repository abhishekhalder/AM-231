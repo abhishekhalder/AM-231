{
 "cells": [
  {
   "cell_type": "markdown",
   "metadata": {},
   "source": [
    "# Problem 1 [100 points] Feedback linearization\n",
    "\n",
    "In this exercise, you will apply the Theorem in Lec. 16, p. 19-20, and the step-by-step recipe in Lec. 17, p. 1-3, for feedback linearization. Consider the nonlinear system\n",
    "\n",
    "$$\\begin{pmatrix}\n",
    "\\dot{x}_{1}\\\\\n",
    "\\dot{x}_{2}\\\\\n",
    "\\dot{x}_{3}\n",
    "\\end{pmatrix} = \\begin{pmatrix}\n",
    "x_{3}\\left(1+x_{2}\\right)\\\\\n",
    "x_{1}\\\\\n",
    "x_{2}\\left(1 + x_{1}\\right)\n",
    "\\end{pmatrix} + \\begin{pmatrix}\n",
    "0\\\\\n",
    "1+x_{2}\\\\\n",
    "-x_{3}\n",
    "\\end{pmatrix}u, \\qquad x:=(x_{1},x_2, x_{3})^{\\top}\\in\\mathbb{R}^{3}, \\qquad u\\in\\mathbb{R}.$$"
   ]
  },
  {
   "cell_type": "markdown",
   "metadata": {},
   "source": [
    "## (a) [20 points] Locally feedback linearizable\n",
    "\n",
    "**Prove that** the system is locally feedback linearizable around $x=0$.\n",
    "\n",
    "(Hint: see Lec. 16, p. 19-20, and step 1 in Lec. 17, p. 1.)"
   ]
  },
  {
   "cell_type": "markdown",
   "metadata": {},
   "source": [
    "## (b) [20 points] Finding $\\lambda(x)$\n",
    "\n",
    "**Show that** a solution for $\\lambda(x)$ in the Theorem in Lec. 16, p. 19, is given by $\\lambda(x) = x_{1}$.\n",
    "\n",
    "(Hint: step 2 in Lec. 17, p. 2 gives a system of $n-1$ first order PDEs, and one PDE not equal to zero condition. You will need to consider all of them simultaneously. Also, the solution for $\\lambda(x)$ for this partial differential system is non-unique -- which is a good thing since our Theorem only requires existence but there can be multiple feedback linearizing controllers corresponding to different admissible $\\lambda(x)$.)"
   ]
  },
  {
   "cell_type": "markdown",
   "metadata": {},
   "source": [
    "## (c) [20 points] Relative degree\n",
    "\n",
    "By directly computing the relative degree, **prove that** the state equation given above, augmented with the output equation $y =\\lambda(x) = x_1$, indeed has relative degree 3, that is, satisfies the $r = n$ condition at the point $x = 0$."
   ]
  },
  {
   "cell_type": "markdown",
   "metadata": {},
   "source": [
    "## (d) [20 points] Feedback linearizing tuple\n",
    "\n",
    "Use your answer in part (b), to compute the feedback linearizing tuple $\\left(\\tau(\\cdot),\\alpha(\\cdot),\\beta(\\cdot)\\right)$.\n",
    "\n",
    "(Hint: use steps 3 and 4 in Lec. 17, p. 3.)"
   ]
  },
  {
   "cell_type": "markdown",
   "metadata": {},
   "source": [
    "## (e) [10 + 2 + 3 = 15 points] Jacobian of $\\tau$\n",
    "\n",
    "**Show that** the Jacobian of $\\tau$ is nonsingular at $x=0$.\n",
    "\n",
    "**What does this nonsingularity at $x=0$ mean** in terms of feedback linearization?\n",
    "\n",
    "**Submit a surface plot** of the form $x_{3} = \\phi(x_{1},x_{2})$ depciting the regions of the state space where the Jacobian of $\\tau$ is singular."
   ]
  },
  {
   "cell_type": "markdown",
   "metadata": {},
   "source": [
    "## (f) [5 points] Control system in feedback linearized coordniates\n",
    "\n",
    "**Clearly write down** the control system in the feedback linearized coordinates with the new state $z\\in\\mathbb{R}^{3}$ and the new control $v\\in\\mathbb{R}$, where $z=\\tau(x)$ and $u=\\alpha(x) + \\beta(x) v$."
   ]
  },
  {
   "cell_type": "code",
   "execution_count": null,
   "metadata": {},
   "outputs": [],
   "source": []
  }
 ],
 "metadata": {
  "kernelspec": {
   "display_name": "Python 2",
   "language": "python",
   "name": "python2"
  },
  "language_info": {
   "codemirror_mode": {
    "name": "ipython",
    "version": 2
   },
   "file_extension": ".py",
   "mimetype": "text/x-python",
   "name": "python",
   "nbconvert_exporter": "python",
   "pygments_lexer": "ipython2",
   "version": "2.7.16"
  }
 },
 "nbformat": 4,
 "nbformat_minor": 2
}
