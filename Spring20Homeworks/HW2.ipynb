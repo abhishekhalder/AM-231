{
 "cells": [
  {
   "cell_type": "markdown",
   "metadata": {},
   "source": [
    "# Problem 1. [50 points] Lyapunov Stability for Switched Linear Systems\n",
    "\n",
    "Consider a switched LTI dynamics\n",
    "\n",
    "$$\\dot{x} = A_{\\sigma(t)}x, \\quad x\\in\\mathbb{R}^{n}, \\quad \\sigma(t)\\in\\{1,2,...,m\\},$$\n",
    "\n",
    "where the switching signal $\\sigma(t)$ makes the vector field to switch between $m$ possible **modal dynamics**, or equivalently between $m$ possible **constant matrices** $A_{1}, A_{2}, ..., A_{m}$. Mathematically, $\\sigma :[0,\\infty)\\mapsto\\{1,2,...,m\\}$ is a piecewise constant function of time with finite number of jumps occuring at the switching instances (w.l.o.g. we take $\\sigma$ to be right-continuous). In other words, at any time $t\\in[0,\\infty)$, the value $\\sigma(t)$ simply denotes the index of the active mode among $m$ possible modal dynamics.\n",
    "\n",
    "Many practical situations induce switched dynamics such as occurance of different types and combinations of faults in a machine, transition between different modes in vehicle dynamics (e.g., {drive,reverse,park} for automobile, {hover,forward flight,take off,land} for helicopter), and communication packet loss in wireless control systems. A practical question then, is to guarantee that the switched system remains S/AS/GUAS **under arbitrary switching**. "
   ]
  },
  {
   "cell_type": "markdown",
   "metadata": {},
   "source": [
    "## (a) [10 + 10 + (2 + 3) = 25 points] GUAS via CQLF\n",
    "\n",
    "**CLF theorem:** Assume that the modal index set is finite (as in $m<\\infty$), and the modal autonomous dynamics are locally Lipschitz in state $x$. The switched dynamical system is GUAS under arbitrary switching **if and only if** the modal dynamical systems share a radially unbounded continuously differentiable common Lyapunov function (CLF) $V(x)$. (You don't need to prove this, instead use it.)\n",
    "\n",
    "For the switched LTI case, while looking for a CLF in the above theorem, it is a natural idea to specifically look for common quadratic Lyapunov function (CQLF) $V(x) = x^{\\top}P x$, which by HW1p3, is equivalent to determining a symmetric matrix $P$ satisfying the following linear matrix inequalities (LMIs):\n",
    "\n",
    "$$P\\succ 0, \\quad A_{i}^{\\top}P + P A_{i} \\prec 0, \\quad \\text{for all}\\quad i\\in\\{1,2,...,m\\}.$$\n",
    "\n",
    "We will use cvx with MATLAB to search for such a matrix $P$. Download cvx from [here](http://cvxr.com/cvx/download/), then open MATLAB in your local computer, and install cvx [following these instructions](http://cvxr.com/cvx/doc/install.html).\n",
    "\n",
    "Consider a switched LTI system with $m=2$, $A_{1} = \\begin{pmatrix}-1 & 0.25\\\\ -1 & -1\\end{pmatrix}$, and $A_{2} = \\begin{pmatrix}-0.5 & -2\\\\ 0.4 & -0.5\\end{pmatrix}$. \n",
    "\n",
    "Use the MATLAB starter code $\\texttt{Lyapunov_Switched_Linear.m}$ to compute a CQLF for the above two mode switched LTI system. **Report** the $P$ matrix, and **insert a plot of the CQLF** $V(x)=x^{\\top}Px$. **Is the bimodal switched LTI system GUAS under arbitrary switching? Why/why not?** "
   ]
  },
  {
   "cell_type": "markdown",
   "metadata": {},
   "source": [
    "## (b) [15 + 10 = 25 points] Does CQLF suffice?\n",
    "\n",
    "The exercise in part (a) raises a natural question: if a switched LTI system is GUAS under arbitrary switching, and by the theorem mentioned in part (a), must admit a CLF, can we always find a CQLF? If the answer is yes, then it will be great news since then we can deploy software like cvx to compute one. It turns out the answer is negative.\n",
    "\n",
    "Consider a switched LTI system with $m=2$, $M_{1} = \\begin{pmatrix}-1 & -1\\\\ 1 & -1\\end{pmatrix}$, and $M_{2} = \\begin{pmatrix}-1 & -10\\\\ 0.1 & -1\\end{pmatrix}$. \n",
    "\n",
    "(i) **Prove that** the modal dynamics $\\dot{x}=M_{1}x$, $\\dot{x}=M_{2}x$ do not admit a CQLF. (Hint: prove by contradiction: suppose that there exists a CQLF $V(x)=x^{\\top}Px$ where w.l.o.g. we can set $P = \\begin{pmatrix}\n",
    "1 & b\\\\\n",
    "b & c\n",
    "\\end{pmatrix}$ for some real numbers $b,c$. Recall that a symmetric matrix is positive definite if and only if its leading principal minors are strictly positive.)\n",
    "\n",
    "(ii) **Plot the two phase portraits of the modal dynamics** with the above matrices $M_1,M_2$, and looking at these two plots **argue that** the switched system is indeed GUAS. (Hint: Think about the worst-case switching possible. A rigorous proof is somewhat technical, a rough geometric reasoning is fine.)\n"
   ]
  },
  {
   "cell_type": "markdown",
   "metadata": {},
   "source": [
    "\n",
    "# Problem 2. [50 points] Lyapunov for estimating ROA\n",
    "\n",
    "Consider the nonlinear system\n",
    "\n",
    "$$\\dot{x}_{1} = x_{2}, \\quad \\dot{x}_{2} = -x_1 - x_2 + x_1^3.$$"
   ]
  },
  {
   "cell_type": "markdown",
   "metadata": {},
   "source": [
    "## (a) [10 points] Fixed points\n",
    "\n",
    "Find all isolated fixed points. Show all your calculations."
   ]
  },
  {
   "cell_type": "markdown",
   "metadata": {},
   "source": [
    "## (b) [10 + 10 = 20 points] Origin is A.S.\n",
    "\n",
    "Using the Lyapunov function $V(x_1, x_2) = \\frac{1}{2}x_2^2 + \\int_{0}^{x_1} (y - y^3)\\:{\\rm{d}}y$, **prove that** the origin is A.S. (Hint: you may need to use the LaSalle invariance.) \n",
    "\n",
    "**Make a 3d surface plot** of the above $V$ over the domain $[-2,2]^2$ along with the **cotour/level set plots** of $V$ in the plane over the same domain. (Hint: you may find it helpful to make the surface plot somewhat transparent)"
   ]
  },
  {
   "cell_type": "markdown",
   "metadata": {},
   "source": [
    "## (c) [15 + 5 = 20 points] ROA estimation\n",
    "\n",
    "Use the Lyapunov function in part (b) to **estimate the ROA for the origin**.\n",
    "\n",
    "**Make a 2D plot** of your estimate for the ROA in the state space."
   ]
  },
  {
   "cell_type": "code",
   "execution_count": null,
   "metadata": {},
   "outputs": [],
   "source": []
  }
 ],
 "metadata": {
  "kernelspec": {
   "display_name": "Python 2",
   "language": "python",
   "name": "python2"
  },
  "language_info": {
   "codemirror_mode": {
    "name": "ipython",
    "version": 2
   },
   "file_extension": ".py",
   "mimetype": "text/x-python",
   "name": "python",
   "nbconvert_exporter": "python",
   "pygments_lexer": "ipython2",
   "version": "2.7.16"
  }
 },
 "nbformat": 4,
 "nbformat_minor": 2
}
