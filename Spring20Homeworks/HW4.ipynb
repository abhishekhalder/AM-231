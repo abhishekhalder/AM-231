{
 "cells": [
  {
   "cell_type": "markdown",
   "metadata": {},
   "source": [
    "# Problem 1. [100 points] $\\mathcal{L}_{2}$ gain for LTI systems\n",
    "\n",
    "The purpose of this exercise is to revisit some details of the worst-case $\\mathcal{L}_{2}$ gain of LTI systems."
   ]
  },
  {
   "cell_type": "markdown",
   "metadata": {},
   "source": [
    "## (a) [20 points] Bounding the worst-case $\\mathcal{L}_{2}$ gain\n",
    "\n",
    "In Lec. 9, p. 6, we mentioned (but did not prove) that the worst-case $\\mathcal{L}_{2}$ gain for a stable LTI system is\n",
    "\n",
    "$$\\gamma_{\\rm{LTI}} = \\|G(j\\omega)\\|_{\\infty} := \\underset{\\omega\\in\\mathbb{R}}{\\sup} \\sigma_{\\max}\\left(G(j\\omega)\\right), \\quad j:=\\sqrt{-1}, \\quad G(s) = C(sI-A)^{-1}B + D,$$\n",
    "\n",
    "where $G(j\\omega)$ is the associated transfer matrix. A proof of this fact can be done in two steps. In the first step, one shows that $\\|G(j\\omega)\\|_{\\infty}$ is a weak upper bound of the $\\mathcal{L}_{2}$ gain for any nonzero $u(t)\\in\\mathcal{L}_{2}[0,\\infty)$. The second step is to show that in fact an equality is achieved. In this part (a), we will only do the first step (upper bound). Specifically, **prove that**\n",
    "$$ \\dfrac{\\|y(t)\\|_{\\mathcal{L}_{2}[0,\\infty)}}{\\|u(t)\\|_{\\mathcal{L}_{2}[0,\\infty)}} \\leq \\|G(j\\omega)\\|_{\\infty},$$\n",
    "\n",
    "and from there, conclude that $\\underset{\\stackrel{u(t)\\in\\mathcal{L}_{2}[0,\\infty)}{u(t)\\not\\equiv 0}}{\\sup} \\dfrac{\\|y(t)\\|_{\\mathcal{L}_{2}[0,\\infty)}}{\\|u(t)\\|_{\\mathcal{L}_{2}[0,\\infty)}} \\leq \\|G(j\\omega)\\|_{\\infty}$.\n",
    "\n",
    "(Hint: Use Parseval's identity: for any causal signal $z(t)\\in\\mathcal{L}_{2}[0,\\infty)$, we have $\\int_{0}^{\\infty}z^{\\top}(t)z(t){\\rm{d}}t = \\frac{1}{2\\pi}\\int_{-\\infty}^{+\\infty}Z^{*}(j\\omega)Z(j\\omega){\\rm{d}}\\omega$, where the superscript $*$ denotes the conjugate transpose, and the Fourier transform $Z(j\\omega) := \\int_{0}^{\\infty}z(t)e^{-j\\omega t}{\\rm{d}}t$.)"
   ]
  },
  {
   "cell_type": "markdown",
   "metadata": {},
   "source": [
    "## (b) [25 points] State-space reformulation\n",
    "\n",
    "From now on, let us assume $D=0$ (no direct feedthrough). The frequency domain formula for the worst-case $\\mathcal{L}_{2}$ gain given in Lec. 9, p. 6, is inconvenient for computation because it involves solving a possibly nonconvex nonlinear optimization problem in $\\omega$. Let us pursue more computationally friendly reformulation via state space approach.\n",
    "\n",
    "By specializing the $\\mathcal{L}_2$ gain theorem for nonlinear systems (Lec. 9, p. 8-9) for $f(x)=Ax$, $g(x)=B$, $h(x)=Cx$, and $V(x) = \\frac{1}{2}x^{\\top}P x$ where $P \\succ 0$, prove that **if** the following optimization problem:\n",
    "\n",
    "$$\\begin{align*}\n",
    "&\\underset{\\gamma,P}{\\text{minimize}}\\quad\\gamma\\\\\n",
    "&\\text{subject to}\\quad\\gamma > 0, \\quad P\\succ 0, \\quad PA + A^{\\top}P + \\frac{1}{\\gamma^2}PBB^{\\top}P + C^{\\top}C \\preceq 0,\n",
    "\\end{align*}\n",
    "$$\n",
    "\n",
    "has unique solution, **then** the answer of this optimization problem gives the tightest upper bound of $\\mathcal{L}_2$ gain $\\gamma_{\\text{LTI}}$. \n",
    "\n",
    "(In fact, when the triple $(A,B,C)$ is minimal, meaning both controllable and observable, then the answer of this optimization problem equals $\\gamma_{\\text{LTI}}$, and hence equals $\\|G(j\\omega)\\|_{\\infty}$. But you can ignore this detail.)"
   ]
  },
  {
   "cell_type": "markdown",
   "metadata": {},
   "source": [
    "## (c) [20 points] A useful lemma\n",
    "\n",
    "At first glance, it may seem that the optimization problem in part (b) is nonlinear in both variables: scalar $\\gamma$ and matrix $P$, due to the last inequality constraint. However, this difficulty can be overcome via the following lemma.\n",
    "\n",
    "**Lemma statement:** Consider real square matrices $Q, R, S$ with $Q$ and $R$ symmetric. The linear matrix inequality $\\begin{pmatrix}Q & S\\\\S^{\\top} & R\\end{pmatrix} \\succeq 0$ is equivalent to (if and only if) $R \\succ 0$ and $Q - SR^{-1}S^{\\top}\\succeq 0$.\n",
    "\n",
    "**Prove this lemma**.\n",
    "\n",
    "(Hint: You may find the following facts useful. Fact 1: For a symmetric matrix $X$, the congruence transformation $X \\mapsto MXM^{\\top}$ via any invertible matrix $M$, preserves the matrix inertia, i.e., the numbers of positive, negative and zero eigenvalues of $X$, equal to the same for $MXM^{\\top}$. Fact 2: A block triangular matrix is non-singular iff its diagonal blocks are non-singular. Fact 3: A block diagonal matrix is positive semi-definite iff its diagonal blocks are positive semi-definite.)"
   ]
  },
  {
   "cell_type": "markdown",
   "metadata": {},
   "source": [
    "## (d) [15 points] Here comes LMI\n",
    "\n",
    "Using the lemma in part (c), and introducing $\\eta := \\gamma^{2}$, **show that** the optimization problem derived in part (b) is equivalent to the following optimization problem:\n",
    "\n",
    "$$\\begin{align*}\n",
    "&\\underset{\\eta,P}{\\text{minimize}}\\quad\\eta\\\\\n",
    "&\\text{subject to}\\quad\\eta > 0, \\quad P\\succ 0, \\quad \\begin{pmatrix}PA + A^{\\top}P + C^{\\top}C & PB\\\\\n",
    "B^{\\top}P & -\\eta I \n",
    "\\end{pmatrix}\\preceq 0,\n",
    "\\end{align*}\n",
    "$$\n",
    "\n",
    "which is linear in both $\\eta,P$. Here $I$ denotes the identity matrix of appropriate dimension."
   ]
  },
  {
   "cell_type": "markdown",
   "metadata": {},
   "source": [
    "## (e) [20 points] Let us compute\n",
    "\n",
    "The type of optimization problem derived in part (d) is called semi-definite programming (SDP) problem that minimizes linear objective subject to linear matrix inequalities (LMIs). SDPs are convex optimization problems, and can be solved efficiently via software like cvx in MATLAB.\n",
    "\n",
    "Use the starter code provided to write a MATLAB code for computing the worst-case $\\mathcal{L}_{2}$ gain, i.e., the $\\mathcal{H}_{\\infty}$ norm of the given stable, controllable and observable LTI system in two ways: by using $\\texttt{cvx}$ to solve the optimization in part (d), and by using MATLAB command $\\texttt{norm(sys,inf)}$ to solve the frequency domain optimization problem. To understand how to specify an SDP in cvx, you may want to take a look at: http://cvxr.com/cvx/examples/ (Also, you may want to look at HW2 code for switched linear systems.)\n",
    "\n",
    "Report the $\\mathcal{H}_{\\infty}$ norms computed from the two methods, and submit your code inside the same zipped folder.\n",
    "\n",
    "**The starter code $\\texttt{Hinf.m}$ containing the LTI system is in CANVAS Files section.**"
   ]
  }
 ],
 "metadata": {
  "kernelspec": {
   "display_name": "Python 2",
   "language": "python",
   "name": "python2"
  },
  "language_info": {
   "codemirror_mode": {
    "name": "ipython",
    "version": 2
   },
   "file_extension": ".py",
   "mimetype": "text/x-python",
   "name": "python",
   "nbconvert_exporter": "python",
   "pygments_lexer": "ipython2",
   "version": "2.7.16"
  }
 },
 "nbformat": 4,
 "nbformat_minor": 2
}
