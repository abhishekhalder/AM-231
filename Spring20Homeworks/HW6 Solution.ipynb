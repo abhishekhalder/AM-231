{
 "cells": [
  {
   "cell_type": "markdown",
   "metadata": {},
   "source": [
    "# Problem 1 [50 points] Stabilizing controllers\n",
    "\n",
    "Consider the scalar control system\n",
    "\n",
    "$$\\dot{x} = -x^3 + u, \\qquad x,u\\in\\mathbb{R}.$$\n",
    "\n",
    "We want to design (static) state feedback control $u = u(x)$ such that origin of the closed-loop system is G.A.S. We will design multiple stabilizing controllers for this system, and compare their performance."
   ]
  },
  {
   "cell_type": "markdown",
   "metadata": {},
   "source": [
    "## (a) [5 points] Feedback linearizing controller\n",
    "\n",
    "**Design** a feedback linearizing controller $u_{\\rm{FL}}(x)$ by applying \"cancel the nonlinearity and get a stable linear closed-loop system\" idea."
   ]
  },
  {
   "cell_type": "markdown",
   "metadata": {},
   "source": [
    "## Solution for 1(a):\n",
    "\n",
    "Motivated by the \"cancel the nonlinearity and get a stable linear closed-loop system\" idea, we take $u_{\\rm{FL}}(x) = x^3 - x$ (more generally, can take $u_{\\rm{FL}}(x) = x^3 - kx$, $k>0$). This results in a closed-loop system $\\dot{x} = −x$, which makes the origin G.A.S. "
   ]
  },
  {
   "cell_type": "markdown",
   "metadata": {},
   "source": [
    "## (b) [5 points] Linear feedback controller\n",
    "\n",
    "**Prove that** a linear feedback controller $u_{\\rm{L}}(x) = −x$ makes the origin of the closed-loop system G.A.S. \n",
    "\n",
    "(Hint: use $V(x)=\\frac{1}{2}x^{2}$ and the Barbashin-Krasovskii theorem.)"
   ]
  },
  {
   "cell_type": "markdown",
   "metadata": {},
   "source": [
    "## Solution for 1(b):\n",
    "\n",
    "For $u_{\\rm{L}}(x) = −x$, we get the closed-loop system $\\dot{x} = −x^{3} − x$. Taking $V(x) = \\frac{1}{2}x^{2}$ (positive definite function, radially unbounded), we get $\\dot{V} = -x^{4} - x^{2} < 0$ for all $x\\neq 0$. By the Barbashin-Krasovskii theorem, this guarantees that the origin is G.A.S."
   ]
  },
  {
   "cell_type": "markdown",
   "metadata": {},
   "source": [
    "## (c) [5 + 5 = 10 points] Comparing designs (a) and (b) \n",
    "\n",
    "**Give two reasons** why the controller $u_{\\rm{L}}(x)$ in part (b) is a better controller than $u_{\\rm{FL}}(x)$ in part (a). \n",
    "\n",
    "(Hint: think rate-of-convergence of the closed-loop system, and magnitude of control signal for large $x$. For the latter, you may find it insightful to plot $|u|$ as function of $x$.)"
   ]
  },
  {
   "attachments": {},
   "cell_type": "markdown",
   "metadata": {},
   "source": [
    "## Solution for 1(c):\n",
    "\n",
    "The controller in part (b) entails faster rate of convergence than the controller in part (a). \n",
    "One way to see this is to solve the scalar closed-loop systems: \n",
    "\n",
    "$$x_{\\rm{FL}}(t) = x_{0}e^{-t}, \\qquad x_{\\rm{L}}(t) = \\pm x_{0}\\left((1+x_{0}^{2})\\left(e^{2t} - \\frac{x_{0}^{2}}{1 + x_{0}^{2}}\\right)\\right)^{-\\frac{1}{2}},$$\n",
    "\n",
    "and notice that the latter decays faster than $e^{-t}$.\n",
    "\n",
    "Second reason to prefer the controller in part (b) over the controller in part (a) is that for large $|x|$ (far from the origin), larger control effort is needed for $u_{\\rm{FL}}(x)$ than $u_{\\rm{L}}(x)$. This is illustrated in the following plot.\n",
    "\n",
    "<img src=\"xversusabsu.png\">"
   ]
  },
  {
   "cell_type": "markdown",
   "metadata": {},
   "source": [
    "## (d) [5 points] Doing nothing controller\n",
    "\n",
    "The answer in part (c) tells us that it is better not to kill \"friendly nonlinearity\". Consider another design idea: doing nothing controller, i.e., $u_{0}(x) \\equiv 0$ for all $x\\in\\mathbb{R}$. **Prove that** $u_{0}(x)$ also makes the origin G.A.S."
   ]
  },
  {
   "cell_type": "markdown",
   "metadata": {},
   "source": [
    "## Solution for 1(d):\n",
    "\n",
    "The controller $u_{0}(x) \\equiv 0$ for all $x\\in\\mathbb{R}$, results in the closed-loop dynamics $\\dot{x} = -x^{3}$, which again by taking $V(x) = \\frac{1}{2}x^{2}$, yields $\\dot{V} = -x^{4} < 0$ for all $x\\neq 0$, thereby establishing G.A.S. for the origin via the Barbashin-Krasovskii theorem."
   ]
  },
  {
   "cell_type": "markdown",
   "metadata": {},
   "source": [
    "## (e) [5 + 5 = 10 points] Comparing designs (b) and (d)\n",
    "\n",
    "Give **one advantage** and **one disadvantage** of $u_{0}(x)$ compared to $u_{\\rm{L}}(x)$. \n",
    "\n",
    "(Hint: again think in terms of the hint in part (c))."
   ]
  },
  {
   "cell_type": "markdown",
   "metadata": {},
   "source": [
    "## Soliution for 1(e):\n",
    "\n",
    "An **advantage** of $u_{0}(x)$ is that the control effort is always zero (smaller than any other control strategy). A **disadvantage** of $u_{0}(x)$ is that for small $|x|$ (near the origin), the rate of convergence is slower than that resulting from $u_{\\rm{L}}(x)$. This can be seen by solving the closed-loop system for $u_{0}(x)$ as $x(t) = \\pm x_{0}/\\sqrt{1+2tx_{0}^{2}}$, and comparing with $x_{\\rm{L}}(t)$ above. (Can also compare $|\\dot{x}|$ for small $|x|$ to get the same conclusion.)"
   ]
  },
  {
   "cell_type": "markdown",
   "metadata": {},
   "source": [
    "## (f) [5 points] Stabilizing controller via CLF\n",
    "\n",
    "**Design** another stabilizing controller $u_{\\rm{S}}(x)$ using Sontag’s formula. \n",
    "\n",
    "(Hint: use the Lyapunov function in part (b) as the CLF.)"
   ]
  },
  {
   "cell_type": "markdown",
   "metadata": {},
   "source": [
    "## Solution for 1(f):\n",
    "\n",
    "Following the hint, we take $V(x) = \\frac{1}{2}x^{2}$ as the CLF, and use Sontag’s formula to get the stabilizing controller\n",
    "\n",
    "$$u_{\\rm{S}}(x) = \\frac{x^{4} - \\sqrt{x^{8} + x^{4}}}{x} = x^{3} - x\\sqrt{x^{4} + 1}, \\quad\\text{for}\\quad x\\neq 0.$$ \n",
    "\n",
    "Notice that the formula automatically captures $u_{\\rm{S}}(x) = 0$ for $x=0$."
   ]
  },
  {
   "cell_type": "markdown",
   "metadata": {},
   "source": [
    "## (g) [5 + 5 = 10 points] Which controller is the best controller\n",
    "\n",
    "From your answer in part (f), **argue that** near $x = 0$, we have $u_{\\rm{S}}(x) \\approx u_{\\rm{L}}(x)$; and for $|x| \\rightarrow \\infty$, we have $u_{\\rm{S}}(x) \\approx u_{0}(x)$ , and therefore, $u_{\\rm{S}}(x)$ outperforms all the previous controllers.\n",
    "\n",
    "In the same figure, **plot all the four controllers** as function of $x$."
   ]
  },
  {
   "attachments": {},
   "cell_type": "markdown",
   "metadata": {},
   "source": [
    "## Solution for 1(g):\n",
    "\n",
    "Expanding $u_{\\rm{S}}(x)$ in Taylor series about $x=0$ yields\n",
    "\n",
    "$$-x + x^{3} -\\frac{x^{5}}{2} + \\frac{x^{9}}{8} + O\\left(x^{11}\\right).$$\n",
    "\n",
    "Therefore, up to first order, $u_{\\rm{S}}(x) \\approx u_{\\rm{L}}(x)$ near $x=0$.\n",
    "\n",
    "Next, expanding $u_{\\rm{S}}(1/x)$ in Taylor series about $x=0$ (equivalent to expanding $u_{\\rm{S}}(1/x)$ about $|x| = \\infty$), we get\n",
    "\n",
    "$$-\\frac{1}{2x} + \\frac{1}{8x^{5}} - \\frac{1}{16x^{9}} + O\\left(\\frac{1}{x^{11}}\\right),$$\n",
    "\n",
    "which tells us that $u_{\\rm{S}}(x) \\approx u_{0}(x)$ as $|x|\\rightarrow \\infty$, hence the claim. \n",
    "\n",
    "The following plot compares all the four feedback controllers.\n",
    "\n",
    "<img src=\"AllFourFeedbackControllers.png\" width=\"500\"/>"
   ]
  },
  {
   "cell_type": "markdown",
   "metadata": {},
   "source": [
    "# Problem 2 [50 points] Integrator backstepping\n",
    "\n",
    "Consider the following 3 state control system which is a modification of the worked out example in Lec. 13, p. 16-18, with an additional integrator at the input side:\n",
    "\n",
    "$$\\begin{align*}\n",
    "\\begin{array}{l}\n",
    "\\dot{x}_{1}=x_{1}^{2}-x_{1}^{3}+x_{2}, \\\\\n",
    "\\dot{x}_{2}=x_{3}, \\\\\n",
    "\\dot{x}_{3}=u.\n",
    "\\end{array}\n",
    "\\end{align*}\n",
    "$$"
   ]
  },
  {
   "cell_type": "markdown",
   "metadata": {},
   "source": [
    "## (a)  [30 points] Controller synthesis\n",
    "\n",
    "**Design** an integrator backstepping controller to make the origin G.A.S. In other words, find the feedback $u(x_1,x_2,x_3)$ and the overall Lyapunov certificate $V(x_1,x_2,x_3)$."
   ]
  },
  {
   "cell_type": "markdown",
   "metadata": {},
   "source": [
    "## Solution for 2(a):\n",
    "\n",
    "From the worked out backstepping example in Lec. 13, p 16-18, we know that the second order system\n",
    "\n",
    "$$\\begin{align*}\n",
    "\\begin{array}{l}\n",
    "\\dot{x}_{1}=x_{1}^{2}-x_{1}^{3}+x_{2}, \\\\\n",
    "\\dot{x}_{2}=x_{3},\n",
    "\\end{array}\n",
    "\\end{align*}$$\n",
    "\n",
    "with $x_{3}$ as input, has global stabilizing controller\n",
    "\n",
    "$$x_{3} = -x_{1}-\\left(1+2x_{1}\\right)\\left(x_{1}^{2}-x_{1}^{3}+x_{2}\\right) -\\left(x_{2} + x_{1} + x_{1}^{2}\\right) =: \\phi\\left(x_{1},x_{2}\\right),$$\n",
    "\n",
    "and $V(x_1,x_2) = \\frac{1}{2}x_{1}^{2} + \\frac{1}{2}\\left(x_{2} + x_{1} + x_{1}^{2}\\right)^{2}$ is the corresponding Lyapunov function.\n",
    "\n",
    "To backstep further, we introduce the change-of-variable $z_{3} := x_{3} - \\phi(x_{1},x_{2})$, and obtain\n",
    "\n",
    "$$\\begin{align*}\n",
    "\\begin{array}{l}\n",
    "\\dot{x}_{1}=x_{1}^{2}-x_{1}^{3}+x_{2}, \\\\\n",
    "\\dot{x}_{2}= \\phi(x_1,x_2) + z_{3},\\\\\n",
    "\\dot{z}_{3} = u - \\frac{\\partial\\phi}{\\partial x_{1}}\\left(x_{1}^{2}-x_{1}^{3}+x_{2}\\right) - \\frac{\\partial\\phi}{\\partial x_{2}}\\left(\\phi + z_{3}\\right).\n",
    "\\end{array}\n",
    "\\end{align*}$$\n",
    "\n",
    "Letting $V_{c}:=V(x_1,x_2) + \\frac{1}{2}z_{3}^{2}$, we get \n",
    "\n",
    "$$\\begin{aligned} \\dot{V}_{c} &=\\frac{\\partial V}{\\partial x_{1}}\\left(x_{1}^{2}-x_{1}^{3}+x_{2}\\right)+\\frac{\\partial V}{\\partial x_{2}}\\left(\\phi+z_{3}\\right)+z_{3}\\left(u-\\frac{\\partial \\phi}{\\partial x_{1}}\\left(x_{1}^{2}-x_{1}^{3}+x_{2}\\right)-\\frac{\\partial \\phi}{\\partial x_{2}}\\left(\\phi+z_{3}\\right)\\right) \\\\ &=-x_{1}^{2}-x_{1}^{4}-\\left(x_{2}+x_{1}+x_{1}^{2}\\right)^{2}+z_{3}\\left(\\frac{\\partial V}{\\partial x_{2}}+u-\\frac{\\partial \\phi}{\\partial x_{1}}\\left(x_{1}^{2}-x_{1}^{3}+x_{2}\\right)-\\frac{\\partial \\phi}{\\partial x_{2}}\\left(\\phi+z_{3}\\right)\\right), \\end{aligned}$$\n",
    "\n",
    "and therefore, we can set\n",
    "\n",
    "$$u(x_{1},x_{2},x_{3}) = -\\frac{\\partial V}{\\partial x_{2}} + \\frac{\\partial\\phi}{\\partial x_{1}} \\left(x_{1}^{2}-x_{1}^{3}+x_{2}\\right) + \\frac{\\partial\\phi}{\\partial x_{2}}\\left(\\phi + z_{3}\\right) - z_{3},$$\n",
    "\n",
    "resulting in\n",
    "\n",
    "$$\\dot{V}_{c}=-x_{1}^{2}-x_{1}^{4}-\\left(x_{2}+x_{1}+x_{1}^{2}\\right)^{2}-z_{3}^{2} \\leq-\\{\\underbrace{x_{1}^{2}+\\left(x_{2}+x_{1}+x_{1}^{2}\\right)^{2}+z_{3}^{2}}_{\\text {positive definite function }}\\}.$$\n",
    "\n",
    "Thus, the controller $u(x_1,x_2,x_3)$ above makes the origin G.A.S., and the associated Lyapunov certificate is\n",
    "\n",
    "$$\\begin{aligned} V_{c}\\left(x_{1}, x_{2}, x_{3}\\right) &=V\\left(x_{1}, x_{2}\\right)+\\frac{1}{2}\\left(x_{3}-\\phi\\left(x_{1}, x_{2}\\right)\\right)^{2} \\\\ &=\\frac{1}{2} x_{1}^{2}+\\frac{1}{2}\\left(x_{2}+x_{1}+x_{1}^{2}\\right)^{2}+\\frac{1}{2}\\left[x_{3}+x_{1}+\\left(1+2 x_{1}\\right)\\left(x_{1}^{2}-x_{1}^{3}+x_{2}\\right)+\\left(x_{2}+x_{1}+x_{1}^{2}\\right)\\right]^{2}.\\end{aligned}$$"
   ]
  },
  {
   "cell_type": "markdown",
   "metadata": {},
   "source": [
    "## (b) [20 points] Numerical simulation\n",
    "\n",
    "Use your answer in part (a) to write a MATLAB function $\\texttt{BacksteppingClosedLoop.m}$ that can be called by the supplied executable $\\texttt{Backstepping.m}$ in CANVAS Files section. **Submit the two plots** generated by $\\texttt{Backstepping.m}$: \n",
    "(i) a phase portrait of the closed loop dynamics for 10 randomly generated initial conditions,\n",
    "(ii) a representative time series plot for a specific controlled trajectory.\n",
    "\n",
    "The plot commands are already there in $\\texttt{Backstepping.m}$. So your job is to correctly implement the function $\\texttt{BacksteppingClosedLoop.m}$. "
   ]
  },
  {
   "cell_type": "markdown",
   "metadata": {},
   "source": [
    "## Solution for 2(b):\n",
    "\n",
    "See the MATLAB function $\\texttt{BacksteppingClosedLoop.m}$ inside CANVAS Files section. Two sample plots generated by the same are shown below.\n",
    "<img src=\"BacksteppingPhasePortrait.png\" width=\"800\"/>\n",
    "<img src=\"BacksteppingClosedLoopTrajectory.png\" width=\"600\"/>"
   ]
  }
 ],
 "metadata": {
  "kernelspec": {
   "display_name": "Python 2",
   "language": "python",
   "name": "python2"
  },
  "language_info": {
   "codemirror_mode": {
    "name": "ipython",
    "version": 2
   },
   "file_extension": ".py",
   "mimetype": "text/x-python",
   "name": "python",
   "nbconvert_exporter": "python",
   "pygments_lexer": "ipython2",
   "version": "2.7.16"
  }
 },
 "nbformat": 4,
 "nbformat_minor": 2
}
