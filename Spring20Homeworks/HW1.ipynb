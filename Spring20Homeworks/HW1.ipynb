{
 "cells": [
  {
   "cell_type": "markdown",
   "metadata": {},
   "source": [
    "# Problem 1. [25 points] Lyapunov Stability in Continuous Time\n",
    "\n",
    "Dynamics of a rotating rigid spacecraft is given by the Euler equation\n",
    "\n",
    "<br/>\n",
    "    $$J_{1}\\dot{\\omega}_{1} = \\left(J_{2} - J_{3}\\right)\\omega_{2}\\omega_{3} + \\tau_{1},\\\\\n",
    "    J_{2}\\dot{\\omega}_{1} = \\left(J_{3} - J_{1}\\right)\\omega_{3}\\omega_{1} + \\tau_{2},\\\\\n",
    "    J_{3}\\dot{\\omega}_{3} = \\left(J_{1} - J_{2}\\right)\\omega_{1}\\omega_{2} + \\tau_{3},$$<br/>\n",
    "where the parameters $J_1,J_2,J_3 > 0$ denote the principal moments of inertia; the state vector $(\\omega_1, \\omega_{2},\\omega_{3})^{\\top}$ denotes the spacecraft’s angular velocity (in rad/s) along its principal axes; and the control vector $(\\tau_1,\\tau_2,\\tau_3)^{\\top}$ denotes the torque input applied about the principal axes.    "
   ]
  },
  {
   "cell_type": "markdown",
   "metadata": {},
   "source": [
    "## (a) [1 + 2 + 2 = 5 points] Fixed points in the absence of control\n",
    "\n",
    "Suppose the controls are all zero, that is, $\\tau_1 = \\tau_2 = \\tau_3 = 0$. Argue why origin is a fixed point. How many fixed points other than the origin are there? What physical motions do these non-origin fixed points, if any, correspond to?"
   ]
  },
  {
   "cell_type": "markdown",
   "metadata": {},
   "source": [
    "## (b) [5 points] Stability in the absence of control \n",
    "\n",
    "As in part (a), consider $\\tau_1 = \\tau_2 = \\tau_3 = 0$. By constructing a suitable Lyapunov function, prove that the origin is **stable**."
   ]
  },
  {
   "cell_type": "markdown",
   "metadata": {},
   "source": [
    "## (c) [2 + 3 = 5 points] Asymptotic stability in the absence of control \n",
    "\n",
    "As in parts (a)-(b), consider $\\tau_1 = \\tau_2 = \\tau_3 = 0$. From your Lyapunov function analysis in part (b), what can you conclude about the **asymptotic stability** of the origin?\n",
    "\n",
    "Given initial conditions $(\\omega_{10},\\omega_{20},\\omega_{30})^{\\top}$ and parameters $J_1 \\neq J_2 \\neq J_3$, it is possible to explicitly solve for the flow (still assuming $\\tau_1 = \\tau_2 = \\tau_3 = 0$) as\n",
    "\n",
    "<br/>\n",
    "$$\\omega_1(t) = \\overline{\\omega}_{10} \\mathrm{cn}\\left(\\omega_{p}t + \\varepsilon, m\\right),\\\\\n",
    "\\omega_2(t) = \\overline{\\omega}_{20} \\mathrm{sn}\\left(\\omega_{p}t + \\varepsilon, m\\right),\\\\\n",
    "\\omega_3(t) = \\overline{\\omega}_{30} \\mathrm{dn}\\left(\\omega_{p}t + \\varepsilon, m\\right),$$\n",
    "<br/>\n",
    "where $\\overline{\\omega}_{10},\\overline{\\omega}_{20},\\overline{\\omega}_{30},\\omega_{p},\\varepsilon,m$ depend only on $(\\omega_{10},\\omega_{20},\\omega_{30})^{\\top}$ and $J_1,J_2,J_3$. The functions $\\mathrm{cn},\\mathrm{sn},\\mathrm{dn}$ are the so-called Jacobi elliptic functions and are periodic in $t$. Using this information alone, and ignoring the previous Lyapunov analysis, what can you conclude about the asymptotic stability of the origin?"
   ]
  },
  {
   "cell_type": "markdown",
   "metadata": {},
   "source": [
    "## (d) [10 points] Global asymptotic stabilization via feedback\n",
    "\n",
    "For $i = 1,2,3$, consider the state feedback control law $\\tau_i = k_i \\omega_i$, where $k_i > 0$ are constants. Prove that origin of the closed-loop system is globally asymptotically stable (G.A.S)."
   ]
  },
  {
   "cell_type": "markdown",
   "metadata": {},
   "source": [
    "\n",
    "# Problem 2. [20 points] Lyapunov Stability in Discrete Time\n",
    "\n",
    "For discrete-time **autonomous** nonlinear system $x(k + 1) = f(x(k))$, $k=0,1,2,...$, one can derive a Lyapunov stability theorem analogous to the continuous-time case, by simply replacing the condition $\\dot{V} <$ (or $\\leq$) $0$ to its discrete-time counterpart: $V(k + 1) <$ (or $\\leq$) $V(k)$, where $V(k) := V(x(k))$, while keeping the other conditions (positive definiteness/semi-definiteness) same. With this modification, related theorems such as Barbashin-Krasovskii and LaSalle apply.\n",
    "\n",
    "Consider the nonlinear system \n",
    "\n",
    "$$x_{1}(k+1) = \\dfrac{\\alpha x_{2}(k)}{1 + \\left(x_{1}(k)\\right)^{2}}, \\qquad x_{2}(k+1) = \\dfrac{\\beta x_{1}(k)}{1 + \\left(x_{2}(k)\\right)^{2}}, \\qquad 0< \\alpha^2 < 1, \\quad 0 < \\beta^2 < 1.$$"
   ]
  },
  {
   "cell_type": "markdown",
   "metadata": {},
   "source": [
    "## (a) [2 + 3 = 5 points] Fixed point\n",
    "\n",
    "Show that origin is a fixed point. Prove that origin is in fact the **unique** fixed point."
   ]
  },
  {
   "cell_type": "markdown",
   "metadata": {},
   "source": [
    "## (b) [10 points] A.S.\n",
    "\n",
    "Prove that the origin is asymptotically stable (A.S.)."
   ]
  },
  {
   "cell_type": "markdown",
   "metadata": {},
   "source": [
    "## (c) [5 points] G.A.S.\n",
    "Prove that origin is globally asymptotically stable (G.A.S)."
   ]
  },
  {
   "cell_type": "markdown",
   "metadata": {},
   "source": [
    "# Problem 3. [55 points] Lyapunov Theory for Continuous-time LTI System\n",
    "\n",
    "Consider the $n$-dimensional LTI system $\\dot{x} = A x$, $A\\in\\mathbb{R}^{n\\times n}$, $x(0) = x_{0}\\in\\mathbb{R}^{n}$. Since origin is the unique fixed point, the notions of A.S. and G.A.S. coincide in this case."
   ]
  },
  {
   "cell_type": "markdown",
   "metadata": {},
   "source": [
    "## (a) [4 + 10 = 14 points] G.A.S. $\\Leftrightarrow A$ is Hurwitz \n",
    "\n",
    "Write down the explicit solution for $x(t)$ in terms of $A$,$t$ and $x_0$. \n",
    "\n",
    "Substituting this solution\n",
    "in the condition $\\displaystyle\\lim_{t\\rightarrow\\infty} x(t) = 0$, prove that origin is G.A.S. iff all eigenvalues of $A$ lie in the **open** left half (complex) plane. Such a matrix is called Hurwitz. (Hint: Be careful about non-diagonalizable $A$.)"
   ]
  },
  {
   "cell_type": "markdown",
   "metadata": {},
   "source": [
    "## (b) [2 + 2 + 2 = 6 points] From positive definite matrix to positive definite function\n",
    "\n",
    "A symmetric matrix $P\\in\\mathbb{R}^{n\\times n}$ is called \"positive (resp. negative) definite\" if $x^{\\top}Px >$ (resp. $<$) $0$ for all nonzero vectors $x\\in\\mathbb{R}^{n}$. Symbolically, we write $P \\succ$ (resp. $\\prec$) $0$, which needs to be understood as matrix (not elementwise) inequality. So for example, $P_1 \\succ P_2$ means that $P_1 - P_2 \\succ 0$. For any given $P \\succ 0$, **prove that** $V(x)=x^{\\top}Px$ is a positive definite function. \n",
    "\n",
    "Geometrically, what do the **level sets** of such a function $V$ represent? \n",
    "\n",
    "**Argue** whether such $V$ is radially bounded or unbounded."
   ]
  },
  {
   "cell_type": "markdown",
   "metadata": {},
   "source": [
    "## (c) [3 + 2 = 5 points] Lyapunov matrix inequality and equation\n",
    "\n",
    "Motivated by your arguments in part (b), use $V(x) = x^{\\top}Px$ as the Lyapunov function to **prove that** the LTI system is G.A.S. provided \n",
    "$$P \\succ 0, \\qquad \\mathcal{L}(P) := A^{\\top}P + PA \\prec 0.$$\n",
    "This condition is called the \"Lyapunov matrix inequality\".\n",
    "\n",
    "**Argue that** the condition $A^{\\top}P + PA \\prec 0$ is equivalent to the statement: for any $Q \\succ 0$, there exists $P \\succ 0$ that solves the linear matrix equation $\\mathcal{L}(P)=-Q$. This equation is called \"Lyapunov (algebraic) matrix equation\"."
   ]
  },
  {
   "cell_type": "markdown",
   "metadata": {},
   "source": [
    "## (d) [10 + 10 = 20 points] $A$ Hurwitz $\\Rightarrow$ Unique solution for Lyapunov matrix equation\n",
    "\n",
    "We have shown in parts (b)-(c) that existence of solution for the Lyapunov matrix equation (equivalently, Lyapunov matrix inequality) $\\Rightarrow$ G.A.S. $\\Leftrightarrow A$ is Hurwitz. **Now prove the converse**, i.e., if $A$ is Hurwitz then for any $Q \\succ 0$, there exists **unique** $P \\succ 0$ that solves $\\mathcal{L}(P)=−Q$. \n",
    "\n",
    "(Hint: Prove existence by construction. Prove uniqueness by contradiction.)\n"
   ]
  },
  {
   "cell_type": "markdown",
   "metadata": {},
   "source": [
    "## (e) [10 points] Monotonicity of the solution of Lyapunov matrix equation\n",
    "\n",
    "For an LTI system with $A$ Hurwitz, prove that if $Q_1 \\succ Q_2$, then $P_1 \\succ P_2$. \n",
    "\n",
    "(The converse is false, but you don't need to prove that.)"
   ]
  },
  {
   "cell_type": "code",
   "execution_count": null,
   "metadata": {},
   "outputs": [],
   "source": []
  }
 ],
 "metadata": {
  "kernelspec": {
   "display_name": "Python 2",
   "language": "python",
   "name": "python2"
  },
  "language_info": {
   "codemirror_mode": {
    "name": "ipython",
    "version": 2
   },
   "file_extension": ".py",
   "mimetype": "text/x-python",
   "name": "python",
   "nbconvert_exporter": "python",
   "pygments_lexer": "ipython2",
   "version": "2.7.16"
  }
 },
 "nbformat": 4,
 "nbformat_minor": 2
}
