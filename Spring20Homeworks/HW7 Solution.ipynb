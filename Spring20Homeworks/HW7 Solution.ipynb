{
 "cells": [
  {
   "cell_type": "markdown",
   "metadata": {},
   "source": [
    "# Problem 1 [100 points] Feedback linearization\n",
    "\n",
    "In this exercise, you will apply the Theorem in Lec. 16, p. 19-20, and the step-by-step recipe in Lec. 17, p. 1-3, for feedback linearization. Consider the nonlinear system\n",
    "\n",
    "$$\\begin{pmatrix}\n",
    "\\dot{x}_{1}\\\\\n",
    "\\dot{x}_{2}\\\\\n",
    "\\dot{x}_{3}\n",
    "\\end{pmatrix} = \\begin{pmatrix}\n",
    "x_{3}\\left(1+x_{2}\\right)\\\\\n",
    "x_{1}\\\\\n",
    "x_{2}\\left(1 + x_{1}\\right)\n",
    "\\end{pmatrix} + \\begin{pmatrix}\n",
    "0\\\\\n",
    "1+x_{2}\\\\\n",
    "-x_{3}\n",
    "\\end{pmatrix}u, \\qquad x:=(x_{1},x_2, x_{3})^{\\top}\\in\\mathbb{R}^{3}, \\qquad u\\in\\mathbb{R}.$$"
   ]
  },
  {
   "cell_type": "markdown",
   "metadata": {},
   "source": [
    "## (a) [20 points] Locally feedback linearizable\n",
    "\n",
    "**Prove that** the system is locally feedback linearizable around $x=0$.\n",
    "\n",
    "(Hint: see Lec. 16, p. 19-20, and step 1 in Lec. 17, p. 1.)"
   ]
  },
  {
   "attachments": {},
   "cell_type": "markdown",
   "metadata": {},
   "source": [
    "## Solution for part (a):\n",
    "\n",
    "To prove that the given system is feedback linearizable, we need to verify the two constructive conditions (i)-(ii) given in Lec. 16, p. 20. To verify condition (i), we notice that the state dimension $n = 3$, and construct the matrix\n",
    "\n",
    "$$M(\\underline{x})=\\left[\\underline{g}(\\underline{x}) \\quad \\operatorname{ad}_{\\underline{f}} \\underline{g}(\\underline{x}) \\quad \\operatorname{ad}_{\\underline{f}}^{2} \\underline{g}(\\underline{x})\\right],$$\n",
    "\n",
    "where\n",
    "$$\\begin{align*}\n",
    "\\underline{g}(\\underline{x}) &=\\left(\\begin{array}{c}0 \\\\ 1+x_{2} \\\\ -x_{3}\\end{array}\\right),\\\\\n",
    "\\operatorname{ad}_{\\underline{f}}\\underline{g}(\\underline{x}) &= \\left[\\begin{array}{ccc}0 & 0 & 0 \\\\ 0 & 1 & 0 \\\\ 0 & 0 & -1\\end{array}\\right]\\left(\\begin{array}{c}x_{3}\\left(1+x_{2}\\right) \\\\ x_{1} \\\\ x_{2}\\left(1+x_{1}\\right)\\end{array}\\right)-\\left[\\begin{array}{ccc}0 & x_{3} & 1+x_{2} \\\\ 1 & 0 & 0 \\\\ x_{2} & 1+x_{1} & 0\\end{array}\\right]\\left(\\begin{array}{c}0 \\\\ 1+x_{2} \\\\ -x_{3}\\end{array}\\right)=\\left(\\begin{array}{c}0 \\\\ x_{1} \\\\ -\\left(1+x_{1}\\right)\\left(1+2 x_{2}\\right)\\end{array}\\right),\\\\\n",
    "\\operatorname{ad}_{f}^{2} \\underline{g}(\\underline{x}) &= \\left[\\begin{array}{ccc}0 & 0 & 0 \\\\ 1 & 0 & 0 \\\\ -\\left(1+2 x_{2}\\right) & -2\\left(1+x_{1}\\right) & 0\\end{array}\\right]\\left(\\begin{array}{c}x_{3}\\left(1+x_{2}\\right) \\\\ x_{1} \\\\ x_{2}\\left(1+x_{1}\\right)\\end{array}\\right)-\\left[\\begin{array}{ccc}0 & x_{3} & 1+x_{2} \\\\ 1 & 0 & 0 \\\\ x_{2} & 1+x_{1} & 0\\end{array}\\right]\\left(\\begin{array}{c}0 \\\\ x_{1} \\\\ -(1+x_1)(1+2x_2) \\end{array}\\right)\\\\\n",
    "&= \\begin{pmatrix}\n",
    "-x_{3} x_{1}+\\left(1+x_{1}\\right)\\left(1+x_{2}\\right)\\left(1+2 x_{2}\\right) \\\\ x_{3}\\left(1+x_{2}\\right) \\\\ -x_{3}\\left(1+x_{2}\\right)\\left(1+2 x_{2}\\right)-3 x_{1}\\left(1+x_{1}\\right).\n",
    "\\end{pmatrix}\n",
    "\\end{align*}$$\n",
    "Therefore, we have\n",
    "$$\\operatorname{rank}(M(\\underline{x}=\\underline{0}))=\\operatorname{rank}\\left(\\left[\\begin{array}{ccc}0 & 0 & 1 \\\\ 1 & 0 & 0 \\\\ 0 & -1 & 0\\end{array}\\right]\\right)=3,$$\n",
    "and hence the condition (i) is satisfied.\n",
    "\n",
    "To verify condition (ii), notice that\n",
    "\n",
    "$$\\begin{align*}\n",
    "\\operatorname{ad}_{\\underline{g}} \\operatorname{ad}_{\\underline{f}} \\underline{g}(\\underline{x}) &=\\left[\\begin{array}{ccc}0 & 0 & 0 \\\\ 1 & 0 & 0 \\\\ -\\left(1+2 x_{2}\\right) & -2\\left(1+x_{1}\\right) & 0\\end{array}\\right]\\left(\\begin{array}{c}0 \\\\ 1+x_{2} \\\\ -x_{3}\\end{array}\\right)-\\left[\\begin{array}{ccc}0 & 0 & 0 \\\\ 0 & 1 & 0 \\\\ 0 & 0 & -1\\end{array}\\right]\\left(\\begin{array}{c}0 \\\\ x_{1} \\\\ -\\left(1+x_{1}\\right)\\left(1+2 x_{2}\\right)\\end{array}\\right)\\\\\n",
    "&=\\left(\\begin{array}{c}0 \\\\ -x_{1} \\\\ -\\left(1+x_{1}\\right)\\left(3+2 x_{2}\\right)\\end{array}\\right).\n",
    "\\end{align*}$$\n",
    "\n",
    "Therefore,\n",
    "\n",
    "$$\\begin{align*}\n",
    "&\\operatorname{rank}\\left(\\left[\\underline{g}(\\underline{x}) \\quad \\operatorname{ad}_{\\underline{f}} \\underline{g}(\\underline{x}) \\quad \\operatorname{ad}_{\\underline{g}} \\operatorname{ad}_{\\underline{f}} \\underline{g}(\\underline{x})\\right]_{\\underline{x}=\\underline{0}}\\right)\\\\\n",
    "=& \\, \\operatorname{rank}\\left(\\left[\\begin{array}{ccc}0 & 0 & 0 \\\\ 1+x_{2} & x_{1} & -x_{1} \\\\ -x_{3} & -\\left(1+x_{1}\\right)\\left(1+2 x_{2}\\right) & -\\left(1+x_{1}\\right)\\left(3+2 x_{2}\\right)\\end{array}\\right]_{\\underline{x}=\\underline{0}}\\right)\\\\\n",
    "=& \\, \\operatorname{rank}\\left(\\left[\\begin{array}{ccc}0 & 0 & 0 \\\\ 1 & 0 & 0 \\\\ 0 & -1 & -3\\end{array}\\right]\\right) = 2,\n",
    "\\end{align*}\n",
    "$$\n",
    "\n",
    "and hence $\\mathrm{ad}_{\\underline{g}} \\mathrm{ad}_{\\underline{f}}(\\underline{x}=\\underline{0}) \\in \\Delta:=\\operatorname{span}\\left\\{\\underline{g}, \\text { ad }_{\\underline{f}} \\underline{g}\\right\\}(\\underline{x}=\\underline{0})$, i.e., the distribution $\\Delta$ is involutive near $x = 0$, thereby verifying condition (ii).\n",
    "\n",
    "Thus, by the Theorem in Lec. 16, p. 19, the system is feedback linearizable around $x = 0$."
   ]
  },
  {
   "cell_type": "markdown",
   "metadata": {},
   "source": [
    "## (b) [20 points] Finding $\\lambda(x)$\n",
    "\n",
    "**Show that** a solution for $\\lambda(x)$ in the Theorem in Lec. 16, p. 19, is given by $\\lambda(x) = x_{1}$.\n",
    "\n",
    "(Hint: step 2 in Lec. 17, p. 2 gives a system of $n-1$ first order PDEs, and one PDE not equal to zero condition. You will need to consider all of them simultaneously. Also, the solution for $\\lambda(x)$ for this partial differential system is non-unique -- which is a good thing since our Theorem only requires existence but there can be multiple feedback linearizing controllers corresponding to different admissible $\\lambda(x)$.)"
   ]
  },
  {
   "cell_type": "markdown",
   "metadata": {},
   "source": [
    "## Solution to part (b):\n",
    "\n",
    "We need to find a scalar field $\\lambda(\\underline{x})$ that solves the following system of first order PDEs:\n",
    "\n",
    "$$\\begin{aligned} L_{\\underline{g}} \\lambda(\\underline{x})=\\left\\langle\\frac{\\partial \\lambda}{\\partial \\underline{x}}, \\underline{g}(\\underline{x})\\right\\rangle &=0, \\quad \\Leftrightarrow \\quad\\left(1+x_{2}\\right) \\frac{\\partial \\lambda}{\\partial x_{2}}-x_{3} \\frac{\\partial \\lambda}{\\partial x_{3}}=0, \\\\ \n",
    "L_{\\mathrm{ad}_{\\underline{f}} \\underline{g}} \\lambda(\\underline{x})=\\left\\langle\\frac{\\partial \\lambda}{\\partial \\underline{x}}, \\operatorname{ad}_{\\underline{f}} \\underline{g}(\\underline{x})\\right\\rangle &=0, \\quad \\Leftrightarrow \\quad x_{1} \\frac{\\partial \\lambda}{\\partial x_{2}}-\\left(1+x_{1}\\right)\\left(1+2 x_{2}\\right) \\frac{\\partial \\lambda}{\\partial x_{3}}=0, \\end{aligned}$$\n",
    "\n",
    "and the not-equal-to-zero condition:\n",
    "\n",
    "$$L_{\\mathrm{ad}_{\\underline{f}}^{2} \\underline{g}} \\lambda(\\underline{x}=\\underline{0})=\\left.\\left\\langle\\frac{\\partial \\lambda}{\\partial \\underline{x}}, \\mathrm{ad}_{\\underline{f}}^{2} \\underline{g}(\\underline{x})\\right\\rangle\\right|_{\\underline{x}=\\underline{0}} \\neq\\left. 0 \\quad \\Leftrightarrow \\quad \\frac{\\partial \\lambda}{\\partial x_{1}}\\right|_{\\underline{x}=\\underline{0}} \\neq 0.$$\n",
    "\n",
    "Eliminating $\\frac{\\partial\\lambda}{\\partial x_{2}}$ from the system of PDEs, we get\n",
    "\n",
    "$$\\left[\\left(1+x_{1}\\right)\\left(1+x_{2}\\right)\\left(1+2 x_{2}\\right)-x_{3} x_{1}\\right] \\frac{\\partial \\lambda}{\\partial x_{3}}=0,$$\n",
    "\n",
    "for which to hold for all $(x_1,x_2,x_3)$ around $\\underline{x}=\\underline{0}$, we must have $\\frac{\\partial\\lambda}{\\partial x_{3}} = 0$. On the other hand, substituting $\\frac{\\partial\\lambda}{\\partial x_{3}} = 0$ back in the system of PDEs, arguing likewise, we obtain $\\frac{\\partial\\lambda}{\\partial x_{2}}=0$ for all $(x_1,x_2,x_3)$ around $\\underline{x}=\\underline{0}$. Therefore, any solution to the PDE system must be of the form $\\lambda = \\lambda(x_1)$ such that $\\frac{\\partial\\lambda}{\\partial x_{1}}\\big\\vert_{x_{1}=0} \\neq 0$ (due to the not-equal-to-zero condition). The candidate solution $\\lambda(\\underline{x})=x_1$ satisfies this, and hence is an admissible solution."
   ]
  },
  {
   "cell_type": "markdown",
   "metadata": {},
   "source": [
    "## (c) [20 points] Relative degree\n",
    "\n",
    "By directly computing the relative degree, **prove that** the state equation given above, augmented with the output equation $y =\\lambda(x) = x_1$, indeed has relative degree 3, that is, satisfies the $r = n$ condition at the point $x = 0$."
   ]
  },
  {
   "cell_type": "markdown",
   "metadata": {},
   "source": [
    "## Solution to part (c):\n",
    "\n",
    "For $\\lambda(\\underline{x})=x_1$, by direct calculation, we get\n",
    "\n",
    "$$L_{\\underline{g}} \\lambda(\\underline{x})=0, \\quad L_{\\underline{g}} L_{\\underline{f}} \\lambda(\\underline{x})=0, \\quad L_{\\underline{g}} L_{f}^{2} \\lambda(\\underline{x})=\\left(1+x_{1}\\right)\\left(1+x_{2}\\right)\\left(1+2 x_{2}\\right)-x_{3} x_{1},$$\n",
    "\n",
    "and $L_{\\underline{g}} L_{\\underline{f}}^{2} \\lambda(\\underline{x}=\\underline{0})=1 \\neq 0$. Therefore, the relative degree $r$ satisfies $r-1=2$, or $r=3=n$."
   ]
  },
  {
   "cell_type": "markdown",
   "metadata": {},
   "source": [
    "## (d) [20 points] Feedback linearizing tuple\n",
    "\n",
    "Use your answer in part (b), to compute the feedback linearizing tuple $\\left(\\tau(\\cdot),\\alpha(\\cdot),\\beta(\\cdot)\\right)$.\n",
    "\n",
    "(Hint: use steps 3 and 4 in Lec. 17, p. 3.)"
   ]
  },
  {
   "cell_type": "markdown",
   "metadata": {},
   "source": [
    "## Solution to part (d):\n",
    "\n",
    "From steps 3 and 4 in Lec. 17, p. 3, for $\\lambda(\\underline{x})=x_{1}$, we get\n",
    "\n",
    "$$\\begin{align}\n",
    "\\alpha(\\underline{x}) &= -\\frac{L_{\\underline{f}}^{3} \\lambda(\\underline{x})}{L_{\\underline{g}} L_{\\underline{f}}^{2} \\lambda(\\underline{x})}=\\frac{-x_{3}^{2}\\left(1+x_{2}\\right)-x_{2} x_{3}\\left(1+x_{2}\\right)^{2}-x_{1}\\left(1+x_{1}\\right)\\left(1+2 x_{2}\\right)-x_{1} x_{2}\\left(1+x_{1}\\right)}{\\left(1+x_{1}\\right)\\left(1+x_{2}\\right)\\left(1+2 x_{2}\\right)-x_{3} x_{1}},\\\\\n",
    "\\beta(\\underline{x}) &=\\frac{1}{L_{\\underline{g}} L_{\\underline{f}}^{2} \\lambda(\\underline{x})}=\\frac{1}{\\left(1+x_{1}\\right)\\left(1+x_{2}\\right)\\left(1+2 x_{2}\\right)-x_{3} x_{1}},\n",
    "\\end{align}\n",
    "$$\n",
    "and\n",
    "$$\\underline{\\tau}(\\underline{x})=\\left(\\begin{array}{c}\\lambda(\\underline{x}) \\\\ L_{\\underline{f}} \\lambda(\\underline{x}) \\\\ L_{\\underline{f}}^{2} \\lambda(\\underline{x})\\end{array}\\right)=\\left(\\begin{array}{c}x_{1} \\\\ x_{3}\\left(1+x_{2}\\right) \\\\ x_{3} x_{1}+\\left(1+x_{1}\\right)\\left(1+x_{2}\\right) x_{2}\\end{array}\\right).$$"
   ]
  },
  {
   "cell_type": "markdown",
   "metadata": {},
   "source": [
    "## (e) [10 + 2 + 3 = 15 points] Jacobian of $\\tau$\n",
    "\n",
    "**Show that** the Jacobian of $\\tau$ is nonsingular at $x=0$.\n",
    "\n",
    "**What does this nonsingularity at $x=0$ mean** in terms of feedback linearization?\n",
    "\n",
    "**Submit a surface plot** of the form $x_{3} = \\phi(x_{1},x_{2})$ depciting the regions of the state space where the Jacobian of $\\tau$ is singular."
   ]
  },
  {
   "cell_type": "markdown",
   "metadata": {},
   "source": [
    "## Solution to part (e):\n",
    "\n",
    "The Jacobian\n",
    "$$\\left.\\frac{\\partial \\tau}{\\partial \\underline{x}}\\right|_{\\underline{x}=\\underline{0}}=\\left[\\begin{array}{ccc}1 & 0 & 0 \\\\ 0 & x_{3} & 1+x_{2} \\\\ x_3(1+x_2)x_2 & \\left(1+x_{1}\\right)\\left(1+2 x_{2}\\right) & x_{1}\\end{array}\\right]_{\\underline{x}=\\underline{0}}=\\left[\\begin{array}{ccc}1 & 0 & 0 \\\\ 0 & 0 & 1 \\\\ 0 & 1 & 0\\end{array}\\right],$$\n",
    "and hence is non-singular at $\\underline{x}=\\underline{0}$ (since all columns are linearly independent).\n",
    "\n",
    "The implication of non-singular Jacobian is that the change-of-state-co-ordinate transformation $\\underline{x}\\mapsto \\underline{z}:=\\underline{\\tau}(\\underline{x})$ is locally invertible around $\\underline{x}=\\underline{0}$, as promised by the theory of feedback linearization. This means that using this change-of-state-co-ordinate, we can transform the nonlinear control system to a linear control system in Brunovsky canonical form.\n",
    "\n",
    "We observe that \n",
    "\n",
    "$$\\operatorname{det}\\left(\\frac{\\partial \\tau}{\\partial \\underline{x}}\\right)=x_{3} x_{1}-\\left(1+x_{1}\\right)\\left(1+x_{2}\\right)\\left(1+2 x_{2}\\right).$$\n",
    "\n",
    "Notice that the singularity condition $x_{3} x_{1}-\\left(1+x_{1}\\right)\\left(1+x_{2}\\right)\\left(1+2 x_{2}\\right) = 0$ is precisely what makes $\\alpha(\\cdot),\\beta(\\cdot)$ undefined in part (d), and $\\lambda(\\cdot)$ undefined in part (b). The singularity surface is\n",
    "\n",
    "$$x_{3} = \\phi(x_1,x_2) := \\left(1+\\frac{1}{x_{1}}\\right)\\left(1+x_{2}\\right)\\left(1+2 x_{2}\\right),$$\n",
    "\n",
    "which is plotted below.\n",
    "<img src=\"SingularitySurface.png\" width=\"500\">"
   ]
  },
  {
   "attachments": {},
   "cell_type": "markdown",
   "metadata": {},
   "source": [
    "## (f) [5 points] Control system in feedback linearized coordniates\n",
    "\n",
    "**Clearly write down** the control system in the feedback linearized coordinates with the new state $z\\in\\mathbb{R}^{3}$ and the new control $v\\in\\mathbb{R}$, where $z=\\tau(x)$ and $u=\\alpha(x) + \\beta(x) v$."
   ]
  },
  {
   "cell_type": "markdown",
   "metadata": {},
   "source": [
    "## Solution to part (f):\n",
    "\n",
    "The feedback linearized control system in new co-ordinates is\n",
    "\n",
    "$$\\left(\\begin{array}{c}\\dot{z}_{1} \\\\ \\dot{z}_{2} \\\\ \\dot{z}_{3}\\end{array}\\right)=\\left[\\begin{array}{lll}0 & 1 & 0 \\\\ 0 & 0 & 1 \\\\ 0 & 0 & 0\\end{array}\\right]\\left(\\begin{array}{l}z_{1} \\\\ z_{2} \\\\ z_{3}\\end{array}\\right)+\\left(\\begin{array}{l}0 \\\\ 0 \\\\ 1\\end{array}\\right) v$$\n",
    "\n",
    "where $\\underline{z}=\\underline{\\tau}(\\underline{x})$, and $u = \\alpha(\\underline{x})+\\beta(\\underline{x})v$."
   ]
  }
 ],
 "metadata": {
  "kernelspec": {
   "display_name": "Python 2",
   "language": "python",
   "name": "python2"
  },
  "language_info": {
   "codemirror_mode": {
    "name": "ipython",
    "version": 2
   },
   "file_extension": ".py",
   "mimetype": "text/x-python",
   "name": "python",
   "nbconvert_exporter": "python",
   "pygments_lexer": "ipython2",
   "version": "2.7.16"
  }
 },
 "nbformat": 4,
 "nbformat_minor": 2
}
