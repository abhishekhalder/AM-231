{
 "cells": [
  {
   "cell_type": "markdown",
   "metadata": {},
   "source": [
    "# Problem 1. [50 points] Lyapunov Stability for Switched Linear Systems\n",
    "\n",
    "Consider a switched LTI dynamics\n",
    "\n",
    "$$\\dot{x} = A_{\\sigma(t)}x, \\quad x\\in\\mathbb{R}^{n}, \\quad \\sigma(t)\\in\\{1,2,...,m\\},$$\n",
    "\n",
    "where the switching signal $\\sigma(t)$ makes the vector field to switch between $m$ possible **modal dynamics**, or equivalently between $m$ possible **constant matrices** $A_{1}, A_{2}, ..., A_{m}$. Mathematically, $\\sigma :[0,\\infty)\\mapsto\\{1,2,...,m\\}$ is a piecewise constant function of time with finite number of jumps occuring at the switching instances (w.l.o.g. we take $\\sigma$ to be right-continuous). In other words, at any time $t\\in[0,\\infty)$, the value $\\sigma(t)$ simply denotes the index of the active mode among $m$ possible modal dynamics.\n",
    "\n",
    "Many practical situations induce switched dynamics such as occurance of different types and combinations of faults in a machine, transition between different modes in vehicle dynamics (e.g., {drive,reverse,park} for automobile, {hover,forward flight,take off,land} for helicopter), and communication packet loss in wireless control systems. A practical question then, is to guarantee that the switched system remains S/AS/GUAS **under arbitrary switching**. "
   ]
  },
  {
   "cell_type": "markdown",
   "metadata": {},
   "source": [
    "## (a) [10 + 10 + (2 + 3) = 25 points] GUAS via CQLF\n",
    "\n",
    "**CLF theorem:** Assume that the modal index set is finite (as in $m<\\infty$), and the modal autonomous dynamics are locally Lipschitz in state $x$. The switched dynamical system is GUAS under arbitrary switching **if and only if** the modal dynamical systems share a radially unbounded continuously differentiable common Lyapunov function (CLF) $V(x)$. (You don't need to prove this, instead use it.)\n",
    "\n",
    "For the switched LTI case, while looking for a CLF in the above theorem, it is a natural idea to specifically look for common quadratic Lyapunov function (CQLF) $V(x) = x^{\\top}P x$, which by HW1p3, is equivalent to determining a symmetric matrix $P$ satisfying the following linear matrix inequalities (LMIs):\n",
    "\n",
    "$$P\\succ 0, \\quad A_{i}^{\\top}P + P A_{i} \\prec 0, \\quad \\text{for all}\\quad i\\in\\{1,2,...,m\\}.$$\n",
    "\n",
    "We will use cvx with MATLAB to search for such a matrix $P$. Download cvx from [here](http://cvxr.com/cvx/download/), then open MATLAB in your local computer, and install cvx [following these instructions](http://cvxr.com/cvx/doc/install.html).\n",
    "\n",
    "Consider a switched LTI system with $m=2$, $A_{1} = \\begin{pmatrix}-1 & 0.25\\\\ -1 & -1\\end{pmatrix}$, and $A_{2} = \\begin{pmatrix}-0.5 & -2\\\\ 0.4 & -0.5\\end{pmatrix}$. \n",
    "\n",
    "Use the MATLAB starter code $\\texttt{Lyapunov_Switched_Linear.m}$ to compute a CQLF for the above two mode switched LTI system. **Report** the $P$ matrix, and **insert a plot of the CQLF** $V(x)=x^{\\top}Px$. **Is the bimodal switched LTI system GUAS under arbitrary switching? Why/why not?** "
   ]
  },
  {
   "cell_type": "markdown",
   "metadata": {},
   "source": [
    "## Solution for 1(a):\n",
    "\n",
    "The completed code $\\texttt{𝙻𝚢𝚊𝚙𝚞𝚗𝚘𝚟⎯𝚂𝚠𝚒𝚝𝚌𝚑𝚎𝚍⎯𝙻𝚒𝚗𝚎𝚊𝚛-Original.𝚖}$, available from CANVAS file section, generated\n",
    "\n",
    "$$P = \\begin{pmatrix}\n",
    "4.8053 &-0.5797\\\\\n",
    "   -0.5797& 10.4410\n",
    "\\end{pmatrix},\n",
    "$$\n",
    "\n",
    "and a plot for the corresponding CQLF $V(x) = x^{\\top}Px$ is shown below.\n",
    "\n",
    "<img src=\"CQLF.png\">\n",
    "\n",
    "Yes, by the given CLF theorem, the bimodal switched LTI system is GUAS under arbitrary swtiching, and the above CQLF certifies the same."
   ]
  },
  {
   "cell_type": "markdown",
   "metadata": {},
   "source": [
    "## (b) [15 + 10 = 25 points] Does CQLF suffice?\n",
    "\n",
    "The exercise in part (a) raises a natural question: if a switched LTI system is GUAS under arbitrary switching, and by the theorem mentioned in part (a), must admit a CLF, can we always find a CQLF? If the answer is yes, then it will be great news since then we can deploy software like cvx to compute one. It turns out the answer is negative.\n",
    "\n",
    "Consider a switched LTI system with $m=2$, $M_{1} = \\begin{pmatrix}-1 & -1\\\\ 1 & -1\\end{pmatrix}$, and $M_{2} = \\begin{pmatrix}-1 & -10\\\\ 0.1 & -1\\end{pmatrix}$. \n",
    "\n",
    "(i) **Prove that** the modal dynamics $\\dot{x}=M_{1}x$, $\\dot{x}=M_{2}x$ do not admit a CQLF. (Hint: prove by contradiction: suppose that there exists a CQLF $V(x)=x^{\\top}Px$ where w.l.o.g. we can set $P = \\begin{pmatrix}\n",
    "1 & b\\\\\n",
    "b & c\n",
    "\\end{pmatrix}$ for some real numbers $b,c$. Recall that a symmetric matrix is positive definite if and only if its leading principal minors are strictly positive.)\n",
    "\n",
    "(ii) **Plot the two phase portraits of the modal dynamics** with the above matrices $M_1,M_2$, and looking at these two plots **argue that** the switched system is indeed GUAS. (Hint: Think about the worst-case switching possible. A rigorous proof is somewhat technical, a rough geometric reasoning is fine.)\n"
   ]
  },
  {
   "cell_type": "markdown",
   "metadata": {},
   "source": [
    "## Solution for 1(b):\n",
    "\n",
    "(i) Suppose if posiible that there exists a CQLF $V(x) = x^{\\top}P x$ where w.l.o.g. $P = \\begin{pmatrix}\n",
    "1 & b\\\\\n",
    "b & c\n",
    "\\end{pmatrix}$ for some real numbers $b,c$, and \n",
    "$$P\\succ 0, \\quad M_{i}^{\\top}P + P M_{i} \\prec 0, \\quad \\text{for}\\quad i\\in\\{1,2\\}.$$\n",
    "\n",
    "Since a symmetric matrix is positive definite if and only if its leading principal minors are strictly positive, we have\n",
    "\n",
    "$$P \\succ 0 \\quad\\Leftrightarrow\\quad 1 >0, \\quad c -b^{2} > 0.$$\n",
    "\n",
    "$$-M_{1}^{\\top}P - PM_{1} = \\begin{pmatrix}\n",
    "2-2b & 1 + 2b - c\\\\\n",
    "1 + 2b - c & 2b+2c\n",
    "\\end{pmatrix}\n",
    "\\succ 0 \\quad\\Leftrightarrow\\quad 2 - 2b >0, \\quad b^{2} + \\frac{(c-3)^2}{8} < 1,$$\n",
    "\n",
    "$$-M_{2}^{\\top}P - PM_{2} = \\begin{pmatrix}\n",
    "2-\\frac{b}{5} & 10 + 2b - \\frac{c}{10}\\\\\n",
    "10 + 2b - \\frac{c}{10} & 20b+2c\n",
    "\\end{pmatrix}\n",
    "\\succ 0 \\quad\\Leftrightarrow\\quad 2 - \\frac{b}{5} >0, \\quad \\frac{b^{2}}{100} + \\frac{(c-300)^2}{80000} < 1.$$\n",
    "\n",
    "Let us examine the feasibility for the pair of quadratic inequalities $\\quad b^{2} + \\frac{(c-3)^2}{8} < 1$ and $\\frac{b^{2}}{100} + \\frac{(c-300)^2}{80000} < 1$, which are geometrically the interior of two ellipses in $(b,c)$ parameter space. The other inequalities yield the feasibility region $1>b, c>b^2$. So we need to investigate if the two ellipses have a common intersection that also intersects the region $1>b, c>b^2$. \n",
    "\n",
    "The aforesaid ellipses are axes aligned with centers at $(0,3)$ and $(0,300)$, respectively. As shown in the following plot, these ellipses have semi-axes such that they do not intersect, so the set of inequalities derived above are infeasible. Therefore, CQLF does not exist for this system.\n",
    "<img src=\"EllipsesCQLF.png\">\n",
    "\n",
    "(ii) The phase portraits for the modal dynamics are shown below.\n",
    "<img src=\"AM20S20_HW2p1b.png\">\n",
    "Notice that vectors $v_1 := M_{1}x = \\begin{pmatrix}\n",
    "-x_{1}-x_2\\\\\n",
    "x_1 - x_2\n",
    "\\end{pmatrix}$ and $v_2 := M_{2}x = \\begin{pmatrix}\n",
    "-x_{1}-10x_2\\\\\n",
    "\\frac{1}{10}x_1 - x_2\n",
    "\\end{pmatrix}$ are collinear on two straight lines passing through the origin shown as the blue lines in the figure below. (If you want to derive the equations of these two lines passing through the origin, substitute $x_2 = \\alpha x_1$ in $v_{1},v_{2}$, and enforce the collinearity condition: $v_{2} = \\beta v_1$ for some non-zero $\\beta$, which will give you two real roots for $\\alpha$, say $\\alpha_1,\\alpha_2$, and hence two slopes.) At all other points in $\\mathbb{R}^{2}$, one of the two vectors $v_{1},v_{2}$ forms a smaller angle with the existing radial direction. The worst-case switching strategy then is to follow the vector\n",
    "field that points outwards, with switches occurring on the two lines $x_{2}=\\alpha_{1,2}x_{1}$. However, the state trajectory resulting from this worst-case switching strategy converges to the origin since the distance from origin after one rotation decreases (see Fig. below). Therefore, the state trajectories resulting from all other switching strategies also converge to origin, and the worst-case trajectory provides a uniform bound on the rate of convergence. Hence the bimodal switched system is GUAS under arbitrary switching.\n",
    "<img src=\"WorstCaseSwitching.png\" width=\"500\">"
   ]
  },
  {
   "cell_type": "markdown",
   "metadata": {},
   "source": [
    "\n",
    "# Problem 2. [50 points] Lyapunov for estimating ROA\n",
    "\n",
    "Consider the nonlinear system\n",
    "\n",
    "$$\\dot{x}_{1} = x_{2}, \\quad \\dot{x}_{2} = -x_1 - x_2 + x_1^3.$$"
   ]
  },
  {
   "cell_type": "markdown",
   "metadata": {},
   "source": [
    "## (a) [10 points] Fixed points\n",
    "\n",
    "Find all isolated fixed points. Show all your calculations."
   ]
  },
  {
   "cell_type": "markdown",
   "metadata": {},
   "source": [
    "## Solution for 2(a):\n",
    "\n",
    "A fixed point $(x_1^*,x_2^*)$ must solve $\\dot{x}_1^* = 0, \\dot{x}_2^* = 0$, which give $x_2^{*}=0$, and $x_{1}^{*}\\left(\\left(x_{1}^*\\right)^2 - 1\\right)=0 \\Rightarrow x_{1}^{*}=0,\\pm 1$. Therefore, we have three fixed points:\n",
    "$$(x_1^*,x_2^*) = (-1,0), \\quad (0,0), \\quad (+1,0).$$"
   ]
  },
  {
   "cell_type": "markdown",
   "metadata": {},
   "source": [
    "## (b) [10 + 10 = 20 points] Origin is A.S.\n",
    "\n",
    "Using the Lyapunov function $V(x_1, x_2) = \\frac{1}{2}x_2^2 + \\int_{0}^{x_1} (y - y^3)\\:{\\rm{d}}y$, **prove that** the origin is A.S. (Hint: you may need to use the LaSalle invariance.) \n",
    "\n",
    "**Make a 3d surface plot** of the above $V$ over the domain $[-2,2]^2$ along with the **cotour/level set plots** of $V$ in the plane over the same domain. (Hint: you may find it helpful to make the surface plot somewhat transparent)"
   ]
  },
  {
   "cell_type": "markdown",
   "metadata": {},
   "source": [
    "## Solution for 2(b):\n",
    "\n",
    "The function $V(x_1,x_2) = \\frac{1}{2}x_{2}^2 + \\frac{1}{2}x_1^2 - \\frac{1}{4}x_1^4$ is positive definite in the region $|x_1| < \\sqrt{2}$ (this follows by setting $\\frac{1}{2}x_1^2 - \\frac{1}{4}x_1^4 > 0$). On the other hand, we have $\\dot{V} = -x_2^2 \\leq 0$, which guarantees stability but not necessarily A.S. for the origin. We notice that $\\dot{V}=0 \\Rightarrow x_{2}(t)\\equiv 0 \\Rightarrow x_{1}(t) - (x_{1}(t))^3 \\equiv 0$. Thus for $|x_1| < 1$, we can invoke LaSalle invariance theorem to conclude that the origin is (locally) A.S. in $\\mathcal{D} := \\{(x_1,x_2)\\in\\mathbb{R}^{2} : |x_1| < 1\\}$.\n",
    "\n",
    "A surface plot of the Lyapunov function $V(x_1,x_2)$ over $[-2,2]^2$ is shown below, together with its contour plots over the same domain. The function $V$ becomes negative for $|\\sqrt{x_{1}}| > \\sqrt{2}$.\n",
    "<img src=\"HW2p2LyapunovFunction.png\" width=\"500\">"
   ]
  },
  {
   "cell_type": "markdown",
   "metadata": {},
   "source": [
    "## (c) [15 + 5 = 20 points] ROA estimation\n",
    "\n",
    "Use the Lyapunov function in part (b) to **estimate the ROA for the origin**.\n",
    "\n",
    "**Make a 2D plot** of your estimate for the ROA in the state space."
   ]
  },
  {
   "cell_type": "markdown",
   "metadata": {},
   "source": [
    "## Solution for 2(c):\n",
    "\n",
    "We seek an estimate for the ROA of the form $\\Omega_c = \\{(x_1,x_2)\\in\\mathbb{R}^2 : V(x_1,x_2) \\leq c\\}$, where an upper bound for the level $c>0$ needs to be determined such that $\\Omega_c$ is compact, positively invariant, and $\\Omega_c \\subset \\mathcal{D}$. In this case, positive invariance condition is subsumed by compactness and $\\Omega_c \\in \\mathcal{D}$ conditions.\n",
    "\n",
    "For our choice of $V$, the condition $\\Omega_c \\in \\mathcal{D}$ is satisfied for $0<c < 1/4$. To show this explicitly, consider the level set\n",
    "$$V(x_1,x_2) = c \\quad\\Leftrightarrow\\quad \\frac{1}{2}x_{2}^2 + \\frac{1}{2}x_1^2 - \\frac{1}{4}x_1^4 = c.$$\n",
    "Since $x_2^2 \\geq 0$, hence the above tells us\n",
    "$$\\frac{1}{2}\\left(x_1^2\\right)^2 - x_1^2 + 2c \\geq 0 \\quad \\Leftrightarrow \\quad (x_1^2 - 1)^2 + (4c-1)\\geq 0.$$\n",
    "To have $\\Omega_c \\subset \\mathcal{D}$, we need $|x_1| < 1 \\rightarrow x_1^2 - 1 < 0$, which combined with the above inequality yields\n",
    "$$0>x_{1}^2 - 1 \\geq -\\sqrt{1-4c},\\quad\\text{and}\\quad1-4c>0;$$\n",
    "the latter solved for $c>0$ gives the bound $0<c < 1/4$. For such choices of $c$, the level set with boundary $V(x_1,x_2)=c$ is guaranteed to be within $\\mathcal{D}$ (hence bounded) and closed (since $V$ is positive definite there), therefore compact.\n",
    "\n",
    "The following 2D plot shows 23 contours (solid black lines for positive $c$, dashed black lines for negative $c$) of the function $V(x_1,x_2)$, superimposed with the given vector field. Blue (red) color denotes region where $V$ is $> 0$ ($< 0$). The open set $\\mathcal{D}$ is the infinite vertical strip strictly inside the dashed green lines $x_1 = \\pm 1$. Our inner estimate for the region of attraction is $\\{(x_1,x_2)\\in\\mathbb{R}^2 : V(x_1,x_2) \\leq c\\}$ where $0<c < 1/4$ (the \"eye-shaped\" set inside $\\mathcal{D}$).\n",
    "<img src=\"HW3p3cLevelSets.png\">"
   ]
  }
 ],
 "metadata": {
  "kernelspec": {
   "display_name": "Python 2",
   "language": "python",
   "name": "python2"
  },
  "language_info": {
   "codemirror_mode": {
    "name": "ipython",
    "version": 2
   },
   "file_extension": ".py",
   "mimetype": "text/x-python",
   "name": "python",
   "nbconvert_exporter": "python",
   "pygments_lexer": "ipython2",
   "version": "2.7.16"
  }
 },
 "nbformat": 4,
 "nbformat_minor": 2
}
