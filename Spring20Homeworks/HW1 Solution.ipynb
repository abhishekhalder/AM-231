{
 "cells": [
  {
   "cell_type": "markdown",
   "metadata": {},
   "source": [
    "# Problem 1. [25 points] Lyapunov Stability in Continuous Time\n",
    "\n",
    "Dynamics of a rotating rigid spacecraft is given by the Euler equation\n",
    "\n",
    "<br/>\n",
    "    $$J_{1}\\dot{\\omega}_{1} = \\left(J_{2} - J_{3}\\right)\\omega_{2}\\omega_{3} + \\tau_{1},\\\\\n",
    "    J_{2}\\dot{\\omega}_{1} = \\left(J_{3} - J_{1}\\right)\\omega_{3}\\omega_{1} + \\tau_{2},\\\\\n",
    "    J_{3}\\dot{\\omega}_{3} = \\left(J_{1} - J_{2}\\right)\\omega_{1}\\omega_{2} + \\tau_{3},$$<br/>\n",
    "where the parameters $J_1,J_2,J_3 > 0$ denote the principal moments of inertia; the state vector $(\\omega_1, \\omega_{2},\\omega_{3})^{\\top}$ denotes the spacecraft’s angular velocity (in rad/s) along its principal axes; and the control vector $(\\tau_1,\\tau_2,\\tau_3)^{\\top}$ denotes the torque input applied about the principal axes.    "
   ]
  },
  {
   "cell_type": "markdown",
   "metadata": {},
   "source": [
    "## (a) [1 + 2 + 2 = 5 points] Fixed points in the absence of control\n",
    "\n",
    "Suppose the controls are all zero, that is, $\\tau_1 = \\tau_2 = \\tau_3 = 0$. Argue why origin is a fixed point. How many fixed points other than the origin are there? What physical motions do these non-origin fixed points, if any, correspond to?\n",
    "\n",
    "### Solution:### \n",
    "The origin is a fixed point since the substitution $\\omega_1 = \\omega_2 = \\omega_3 = 0$ satisifies the fixed point equations $\\dot{\\omega}_1 = \\dot{\\omega}_2 = \\dot{\\omega}_3 = 0$.\n",
    "\n",
    "Solving the fixed point equations $\\dot{\\omega}_1 = \\dot{\\omega}_2 = \\dot{\\omega}_3 = 0$ yields\n",
    "\n",
    "$$\\omega_1^{*}=\\omega_2^{*}=0,\\omega_3^{*}=\\Omega_3\\;\\text{(arbitrary real constant)};\\\\\n",
    "\\omega_2^{*}=\\omega_3^{*}=0,\\omega_1^{*}=\\Omega_1\\;\\text{(arbitrary real constant)};\\\\\n",
    "\\omega_3^{*}=\\omega_1^{*}=0,\\omega_2^{*}=\\Omega_2\\;\\text{(arbitrary real constant)}.$$\n",
    "\n",
    "Thus there are infinite number of fixed points other than the origin.\n",
    "\n",
    "The physical motion corresponding to each of these (non-origin) fixed point is spinning about\n",
    "one principal axis at a constant rate. Since the constants $\\Omega_1,\\Omega_2,\\Omega_3$ can be positive or negative, the spinning could be clockwise or counter-clockwise about that axis."
   ]
  },
  {
   "cell_type": "markdown",
   "metadata": {},
   "source": [
    "## (b) [5 points] Stability in the absence of control \n",
    "\n",
    "As in part (a), consider $\\tau_1 = \\tau_2 = \\tau_3 = 0$. By constructing a suitable Lyapunov function, prove that the origin is **stable**.\n",
    "\n",
    "### Solution:###\n",
    "\n",
    "Let $V(\\omega_1,\\omega_2,\\omega_3)=\\frac{1}{2}\\left(I_1\\omega_1^2 + I_2\\omega_2^2 + I_3\\omega_3^2\\right)$ be the candidate Lyapunov function. Since $V(0,0,0)=0$, and $V > 0$ for all $\\omega\\in\\mathbb{R}^{3}\\setminus\\{0\\}$, hence $V$ is a positive definite function of the state vector. Furthermore,\n",
    "\n",
    "$$\\dot{V} = \\left[J_{1}\\left(J_2 - J_3\\right)+J_{2}\\left(J_3 - J_1\\right)+J_{3}\\left(J_1 - J_2\\right)\\right]\\omega_1\\omega_2\\omega_3 = 0, \\quad\\text{for all}\\quad\\omega\\in\\mathbb{R}^{3}.$$\n",
    "\n",
    "Therefore, by Lyapunov's theorem, the origin is stable (S)."
   ]
  },
  {
   "cell_type": "markdown",
   "metadata": {},
   "source": [
    "## (c) [2 + 3 = 5 points] Asymptotic stability in the absence of control \n",
    "\n",
    "As in parts (a)-(b), consider $\\tau_1 = \\tau_2 = \\tau_3 = 0$. From your Lyapunov function analysis in part (b), what can you conclude about the **asymptotic stability** of the origin?\n",
    "\n",
    "Given initial conditions $(\\omega_{10},\\omega_{20},\\omega_{30})^{\\top}$ and parameters $J_1 \\neq J_2 \\neq J_3$, it is possible to explicitly solve for the flow (still assuming $\\tau_1 = \\tau_2 = \\tau_3 = 0$) as\n",
    "\n",
    "<br/>\n",
    "$$\\omega_1(t) = \\overline{\\omega}_{10} \\mathrm{cn}\\left(\\omega_{p}t + \\varepsilon, m\\right),\\\\\n",
    "\\omega_2(t) = \\overline{\\omega}_{20} \\mathrm{sn}\\left(\\omega_{p}t + \\varepsilon, m\\right),\\\\\n",
    "\\omega_3(t) = \\overline{\\omega}_{30} \\mathrm{dn}\\left(\\omega_{p}t + \\varepsilon, m\\right),$$\n",
    "<br/>\n",
    "where $\\overline{\\omega}_{10},\\overline{\\omega}_{20},\\overline{\\omega}_{30},\\omega_{p},\\varepsilon,m$ depend only on $(\\omega_{10},\\omega_{20},\\omega_{30})^{\\top}$ and $J_1,J_2,J_3$. The functions $\\mathrm{cn},\\mathrm{sn},\\mathrm{dn}$ are the so-called Jacobi elliptic functions and are periodic in $t$. Using this information alone, and ignoring the previous Lyapunov analysis, what can you conclude about the asymptotic stability of the origin?\n",
    "\n",
    "### Solution: ###\n",
    "\n",
    "From part (b), the asymptotic stability of the origin remains inconclusive.\n",
    "\n",
    "Since the flow is known to be time periodic, hence asymptotic convergence does not occur. Therefore, the origin is **not A.S.**"
   ]
  },
  {
   "cell_type": "markdown",
   "metadata": {},
   "source": [
    "## (d) [10 points] Global asymptotic stabilization via feedback\n",
    "\n",
    "For $i = 1,2,3$, consider the state feedback control law $\\tau_i = k_i \\omega_i$, where $k_i > 0$ are constants. Prove that origin of the closed-loop system is globally asymptotically stable (G.A.S).\n",
    "\n",
    "### Solution: ###\n",
    "\n",
    "The closed-loop dynamics becomes\n",
    "\n",
    "$$J_{1}\\dot{\\omega}_{1} = \\left(J_{2} - J_{3}\\right)\\omega_{2}\\omega_{3} -k_1\\omega_{1},\\\\\n",
    "    J_{2}\\dot{\\omega}_{1} = \\left(J_{3} - J_{1}\\right)\\omega_{3}\\omega_{1} -k_2\\omega_{2},\\\\\n",
    "    J_{3}\\dot{\\omega}_{3} = \\left(J_{1} - J_{2}\\right)\\omega_{1}\\omega_{2} -k_3\\omega_{3},$$\n",
    "    \n",
    "and using the same Lyapunov function as in part (b), we now get $\\dot{V} = -\\displaystyle\\sum_{i=1}^{3}k_{i}\\omega_{i}^{2} < 0$ for all $\\omega\\in\\mathbb{R}^{3}\\setminus\\{0\\}$. This shows that the origin of the closed-loop system is A.S. but whether that is \"global\" or not, remains to be proved.   \n",
    "\n",
    "To establish \"global\", we note first that the origin is indeed the unique fixed point since for $i = 1,2,3$, multiplying the $i$-th fixed point equation by $\\omega_{i}^{*}$, then summing the resulting equations, we get $\\displaystyle\\sum_{i=1}^{3}k_{i}\\omega_i^2 = 0$, $k_i>0$, which is possible iff $\\omega_1^{∗} = \\omega_2^{*} = \\omega_3^{*} = 0$. Furthermore, our choice of $V(·)$ as positively weighted sum-of-squares, is radially unbounded. Hence by Barbashin-Krasovskii theorem, the origin of the closed-loop system is G.A.S."
   ]
  },
  {
   "cell_type": "markdown",
   "metadata": {},
   "source": [
    "\n",
    "# Problem 2. [20 points] Lyapunov Stability in Discrete Time\n",
    "\n",
    "For discrete-time **autonomous** nonlinear system $x(k + 1) = f(x(k))$, $k=0,1,2,...$, one can derive a Lyapunov stability theorem analogous to the continuous-time case, by simply replacing the condition $\\dot{V} <$ (or $\\leq$) $0$ to its discrete-time counterpart: $V(k + 1) <$ (or $\\leq$) $V(k)$, where $V(k) := V(x(k))$, while keeping the other conditions (positive definiteness/semi-definiteness) same. With this modification, related theorems such as Barbashin-Krasovskii and LaSalle apply.\n",
    "\n",
    "Consider the nonlinear system \n",
    "\n",
    "$$x_{1}(k+1) = \\dfrac{\\alpha x_{2}(k)}{1 + \\left(x_{1}(k)\\right)^{2}}, \\qquad x_{2}(k+1) = \\dfrac{\\beta x_{1}(k)}{1 + \\left(x_{2}(k)\\right)^{2}}, \\qquad 0< \\alpha^2 < 1, \\quad 0 < \\beta^2 < 1.$$"
   ]
  },
  {
   "cell_type": "markdown",
   "metadata": {},
   "source": [
    "## (a) [2 + 3 = 5 points] Fixed point\n",
    "\n",
    "Show that origin is a fixed point. Prove that origin is in fact the **unique** fixed point.\n",
    "\n",
    "### Solution: ###\n",
    "\n",
    "The substitution $(x_1^*, x_2^*) = (0,0)$ satisfies the fixed point equations\n",
    "\n",
    "$$x_{1}^* = \\dfrac{\\alpha x_{2}^*}{1 + \\left(x_{1}^*\\right)^{2}}, \\qquad x_{2}^* = \\dfrac{\\beta x_{1}^*}{1 + \\left(x_{2}^*\\right)^{2}}.$$\n",
    "\n",
    "Therefore, origin is a fixed point.\n",
    "\n",
    "To show uniqueness, notice that any fixed point $(x, y)$ needs to satisfy\n",
    "$$x=\\frac{\\alpha y}{1+x^{2}} \\Rightarrow x+x^{3}=\\alpha y, \\quad \\text { and } \\quad y=\\frac{\\beta x}{1+y^{2}} \\Rightarrow \\beta x=y+y^{3}.$$\n",
    "From the second equation, we get $x=\\frac{1}{\\beta}\\left(y+y^{3}\\right)$, which upon substituting into the first results in a polynomial equation in $y$, given by\n",
    "$$y\\left\\{\\frac{1}{\\beta^{3}} y^{8}+\\frac{3}{\\beta^{3}} y^{6}+\\frac{3}{\\beta^{3}} y^{4}+\\left(\\frac{1}{\\beta^{3}}+\\frac{1}{\\beta}\\right) y^{2}+\\left(\\frac{1}{\\beta}-\\alpha\\right)\\right\\}=0.$$\n",
    "The only possible real root of the above is $y = 0$ since the polynomial factor in curly braces is a sum of even powered monomials with positive coefficients, and hence (by DesCartes’ rule of sign) does not admit any real root. Now $y = 0$ implies $x=\\frac{1}{\\beta}\\left(0+0^{3}\\right)=0$. Hence origin is the unique fixed point."
   ]
  },
  {
   "cell_type": "markdown",
   "metadata": {},
   "source": [
    "## (b) [10 points] A.S.\n",
    "\n",
    "Prove that the origin is asymptotically stable (A.S.).\n",
    "\n",
    "### Solution: ###\n",
    "\n",
    "Let us choose the Lyapunov function $V(x_1,x_2)=x_1^2 + x_2^2$, which is a positive definite function in $\\mathbb{R}^2$. Now\n",
    "\n",
    "$$\\begin{aligned}\n",
    "V(k+1)-V(k) &=\\frac{\\alpha^{2}\\left(x_{2}(k)\\right)^{2}}{\\left(1+\\left(x_{1}(k)\\right)^{2}\\right)^{2}}+\\frac{\\beta^{2}\\left(x_{1}(k)\\right)^{2}}{\\left(1+\\left(x_{2}(k)\\right)^{2}\\right)^{2}}-\\left(x_{1}(k)\\right)^{2}-\\left(x_{2}(k)\\right)^{2}, \\\\\n",
    "&=\\left(\\frac{\\alpha^{2}}{\\left(1+\\left(x_{1}(k)\\right)^{2}\\right)^{2}}-1\\right)\\left(x_{2}(k)\\right)^{2}+\\left(\\frac{\\beta^{2}}{\\left(1+\\left(x_{2}(k)\\right)^{2}\\right)^{2}}-1\\right)\\left(x_{1}(k)\\right)^{2}, \\\\\n",
    "& \\leq\\left(\\alpha^{2}-1\\right)\\left(x_{2}(k)\\right)^{2}+\\left(\\beta^{2}-1\\right)\\left(x_{1}(k)\\right)^{2},\n",
    "\\end{aligned}$$\n",
    "\n",
    "which is $<0$ for all $x\\in\\mathbb{R}^2\\setminus\\{0\\}$ since $0<\\alpha^{2}<1,0<\\beta^{2}<1$, and is $=0$ for vector $x=0\\in\\mathbb{R}^2$. Let $\\mathcal{S}$ be the set of $(x_1,x_2)$ such that $V(k+1)-V(k)=0$. In this case, $\\mathcal{S}=\\{(0,0)\\}$ is singleton, and no solution $(x_1,x_2)$ can stay identically in $\\mathcal{S}$ other than the trivial solution $(0,0)$. Therefore, by LaSalle invariance theorem, the origin is A.S."
   ]
  },
  {
   "cell_type": "markdown",
   "metadata": {},
   "source": [
    "## (c) [5 points] G.A.S.\n",
    "Prove that origin is globally asymptotically stable (G.A.S).\n",
    "\n",
    "### Solution: ###\n",
    "\n",
    "Since our choice of Lyapunov function $V(x_1,x_2)=x_1^2+x_2^2 = r^2$ is radially unbounded, and we have already shown that the origin is unique fixed point (in part (a)), and that it is A.S. (in part (b)), hence by Barbasin-Krasovskii theorem, we can conclude that the origin is G.A.S."
   ]
  },
  {
   "cell_type": "markdown",
   "metadata": {},
   "source": [
    "# Problem 3. [55 points] Lyapunov Theory for Continuous-time LTI System\n",
    "\n",
    "Consider the $n$-dimensional LTI system $\\dot{x} = A x$, $A\\in\\mathbb{R}^{n\\times n}$, $x(0) = x_{0}\\in\\mathbb{R}^{n}$. Since origin is the unique fixed point, the notions of A.S. and G.A.S. coincide in this case."
   ]
  },
  {
   "cell_type": "markdown",
   "metadata": {},
   "source": [
    "## (a) [4 + 10 = 14 points] G.A.S. $\\Leftrightarrow A$ is Hurwitz \n",
    "\n",
    "Write down the explicit solution for $x(t)$ in terms of $A$,$t$ and $x_0$. \n",
    "\n",
    "Substituting this solution\n",
    "in the condition $\\displaystyle\\lim_{t\\rightarrow\\infty} x(t) = 0$, prove that origin is G.A.S. iff all eigenvalues of $A$ lie in the **open** left half (complex) plane. Such a matrix is called Hurwitz. (Hint: Be careful about non-diagonalizable $A$.)\n",
    "\n",
    "### Solution: ###\n",
    "\n",
    "The solution of this constant coefficient linear homogoneous ODE is $x(t) = \\exp(At)x_{0}$.\n",
    "\n",
    "Let us use the symbol $\\mathbb{C}^{-}$ to denote the open left-half complex plane. Substituting the above solution into the GAS condition $\\displaystyle\\lim_{t\\rightarrow\\infty} x(t) = 0$ results in the requirement $\\displaystyle\\lim _{t \\rightarrow \\infty} e^{A t}=0$.\n",
    "\n",
    "**If $A$ is diagonalizable**, then there exists non-singular matrix $T$ such that $A = T\\Lambda T^{-1}$ where the diagonal matrix $\\Lambda:=\\operatorname{diag}\\left(\\lambda_{1}, \\ldots, \\lambda_{n}\\right)$ and $\\lambda_i$ denotes the $i$-th eigenvalue of $A$. Then, $e^{A t}=T \\operatorname{diag}\\left(e^{\\lambda_{1} t}, \\ldots, e^{\\lambda_{n} t}\\right) T^{-1}$, and therefore\n",
    "\n",
    "$$\\lim _{t \\rightarrow \\infty} e^{A t}=\\lim _{t \\rightarrow \\infty} \\operatorname{diag}\\left(e^{\\lambda_{1} t}, \\ldots, e^{\\lambda_{n} t}\\right)=0 \\Leftrightarrow \\lim _{t \\rightarrow \\infty} e^{\\lambda_{i} t}=0 \\Leftrightarrow \\lambda_{i} \\in \\mathbb{C}^{-} \\text { for all } i=1, \\ldots, n.$$\n",
    "\n",
    "**If $A$ is non-diagonalizable**, then there exists non-singular matrix $T$ such that $A = TJ T^{-1}$ where the block-diagonal Jordan matrix $J:=\\operatorname{diag}\\left(J_{1}, \\ldots, J_{n}\\right)$ wherein each Jordan block $J_i$ is upper-triangular with $\\lambda_{i}$ along its diagonal. Consequently, we have $e^{A t}=T \\operatorname{diag}\\left(e^{J_{1} t}, \\ldots, e^{J_{n} t}\\right) T^{-1}$. Therefore,\n",
    "\n",
    "$$\\lim _{t \\rightarrow \\infty} e^{A t}=\\lim _{t \\rightarrow \\infty} \\operatorname{diag}\\left(e^{J_{1} t}, \\ldots, e^{J_{n} t}\\right)=0 \\Leftrightarrow \\lim _{t \\rightarrow \\infty} e^{J_{i} t}=\\lim _{t \\rightarrow \\infty} e^{\\lambda_{i} t}=0 \\Leftrightarrow \\lambda_{i} \\in \\mathbb{C}^{-} \\text { for all } i=1, \\ldots, n.$$\n",
    "\n",
    "Hence the statement."
   ]
  },
  {
   "cell_type": "markdown",
   "metadata": {},
   "source": [
    "## (b) [2 + 2 + 2 = 6 points] From positive definite matrix to positive definite function\n",
    "\n",
    "A symmetric matrix $P\\in\\mathbb{R}^{n\\times n}$ is called \"positive (resp. negative) definite\" if $x^{\\top}Px >$ (resp. $<$) $0$ for all nonzero vectors $x\\in\\mathbb{R}^{n}$. Symbolically, we write $P \\succ$ (resp. $\\prec$) $0$, which needs to be understood as matrix (not elementwise) inequality. So for example, $P_1 \\succ P_2$ means that $P_1 - P_2 \\succ 0$. For any given $P \\succ 0$, **prove that** $V(x)=x^{\\top}Px$ is a positive definite function. \n",
    "\n",
    "Geometrically, what do the **level sets** of such a function $V$ represent? \n",
    "\n",
    "**Argue** whether such $V$ is radially bounded or unbounded.\n",
    "\n",
    "### Solution: ###\n",
    "\n",
    "Clearly $V(0)=0$ iff $x=0$, and because $P\\succ 0$, the function $V(x)>0$ for all $x\\neq 0$. Thus, $V(x)=x^{\\top}P x$ is a positive definite function of vector $x$.\n",
    "\n",
    "Geometrically, the level sets of $V(x)=x^{\\top}P x$ are ellipsoids centered at origin with shape matrix $P$.\n",
    "\n",
    "Radially unbounded since $\\displaystyle\\lim _{r \\rightarrow \\infty} x^{\\top}Px=\\displaystyle\\lim _{r \\rightarrow \\infty} \\operatorname{trace}\\left(\\left(x x^{\\top}\\right) P\\right)=\\operatorname{trace}\\left(\\left(\\displaystyle\\lim _{r \\rightarrow \\infty}\\left(x x^{\\top}\\right)\\right) P\\right)=\\infty$."
   ]
  },
  {
   "cell_type": "markdown",
   "metadata": {},
   "source": [
    "## (c) [3 + 2 = 5 points] Lyapunov matrix inequality and equation\n",
    "\n",
    "Motivated by your arguments in part (b), use $V(x) = x^{\\top}Px$ as the Lyapunov function to **prove that** the LTI system is G.A.S. provided \n",
    "$$P \\succ 0, \\qquad \\mathcal{L}(P) := A^{\\top}P + PA \\prec 0.$$\n",
    "This condition is called the \"Lyapunov matrix inequality\".\n",
    "\n",
    "**Argue that** the condition $A^{\\top}P + PA \\prec 0$ is equivalent to the statement: for any $Q \\succ 0$, there exists $P \\succ 0$ that solves the linear matrix equation $\\mathcal{L}(P)=-Q$. This equation is called \"Lyapunov (algebraic) matrix equation\".\n",
    "\n",
    "### Solution: ###\n",
    "\n",
    "We have already shown in part (b) that for any $P \\succ 0$, the function $V$ is a positive definite function, and is radially unbounded. Now,\n",
    "$$\\dot{V}=\\langle\\nabla V, A x\\rangle=(2 P x)^{\\top} A x=2 x^{\\top} P A x=x^{\\top}\\left(A^{\\top} P+P A\\right)x,$$\n",
    "where the last step follows from the fact that a scalar (in this case $x^{\\top}PAx$) must be equal to its own transpose. (Alternatively, you can use product rule of derivative w.r.t. $t$). From the Barbashin-Krasovskii theorem, G.A.S. is guaranteed provided we can show $\\dot{V} < 0$ for all $x\\neq 0$. In our case, $\\dot{V} = x^{\\top}\\mathcal{L}(P)x < 0$ for all $x\\neq 0$ iff $\\mathcal{L}(P) \\prec 0$. Hence the statement.   \n",
    "\n",
    "This follows from the fact that negative of a positive definite matrix is negative definite, i.e., $Q \\succ 0 \\Leftrightarrow -Q \\prec 0$. Therefore, $\\mathcal{L}(P)\\prec 0 \\Leftrightarrow \\mathcal{L}(P) = -Q$ for $Q \\succ 0$."
   ]
  },
  {
   "cell_type": "markdown",
   "metadata": {},
   "source": [
    "## (d) [10 + 10 = 20 points] $A$ Hurwitz $\\Rightarrow$ Unique solution for Lyapunov matrix equation\n",
    "\n",
    "We have shown in parts (b)-(c) that existence of solution for the Lyapunov matrix equation (equivalently, Lyapunov matrix inequality) $\\Rightarrow$ G.A.S. $\\Leftrightarrow A$ is Hurwitz. **Now prove the converse**, i.e., if $A$ is Hurwitz then for any $Q \\succ 0$, there exists **unique** $P \\succ 0$ that solves $\\mathcal{L}(P)=−Q$. \n",
    "\n",
    "(Hint: Prove existence by construction. Prove uniqueness by contradiction.)\n",
    "\n",
    "### Solution: ###\n",
    "\n",
    "**(Existence)** Let us consider the ansatz\n",
    "$$P=\\int_{0}^{\\infty} e^{A^{\\top} t} Q e^{A t} \\mathrm{d} t.$$\n",
    "Since $A$ is Hurwitz, the above integral converges. Since $Q\\succ 0$ and $e^{At}$ is nonsingular, hence $P \\succ 0$. Now \n",
    "\n",
    "$$\\begin{aligned}\n",
    "\\mathcal{L}(P)=A^{\\top} P+P A=\\int_{0}^{\\infty}\\left(A^{\\top} e^{A^{\\top} t} Q e^{A t}+e^{A^{\\top} t} Q e^{A t} A\\right) \\mathrm{d} t &=\\int_{0}^{\\infty} \\frac{\\mathrm{d}}{\\mathrm{d} t}\\left(e^{A^{\\top} t} Q e^{A t}\\right) \\mathrm{d} t \\\\\n",
    "&=\\left(\\lim _{t \\rightarrow \\infty} e^{A^{\\top} t} Q e^{A t}\\right)-Q=-Q\n",
    "\\end{aligned}$$\n",
    "\n",
    "where we used that for $A$ Hurwitz, we have $\\displaystyle\\lim _{t \\rightarrow \\infty} e^{A^{\\top} t} Q e^{A t}=0$. Since our ansatz $P \\succ 0$ satisfies $\\mathcal{L}(P) \\prec 0$ for any $Q \\succ 0$, hence existence is guaranteed.\n",
    "\n",
    "**(Uniqueness)** If possible, let us assume that the matrix equation $\\mathcal{L}(P)=-Q$ admits two distinct solutions $P_1,P_2 \\succ 0$, $P_1\\neq P_2$, for any given $Q\\succ 0$. This implies\n",
    "\n",
    "$$\\mathcal{L}\\left(P_{1}\\right)-\\mathcal{L}\\left(P_{2}\\right)=A^{\\top}\\left(P_{1}-P_{2}\\right)+\\left(P_{1}-P_{2}\\right) A=0.$$\n",
    "\n",
    "Pre-multiplying the above by $e^{A^{\\top}t}$ and post-multiplying by $e^{At}$, we get\n",
    "\n",
    "$$e^{A^{\\top} t}\\left(A^{\\top}\\left(P_{1}-P_{2}\\right)+\\left(P_{1}-P_{2}\\right) A\\right) e^{A t}=\\frac{\\mathrm{d}}{\\mathrm{d} t}\\left(e^{A^{\\top} t}\\left(P_{1}-P_{2}\\right) e^{A t}\\right)=0 \\Leftrightarrow e^{A^{\\top} t}\\left(P_{1}-P_{2}\\right) e^{A t}=M,$$\n",
    "\n",
    "where the matrix $M$ does not depend on time $t$. Since the above must hold for all $t\\ge 0$, evaluating the same at the limit $t\\rightarrow\\infty$ gives $M=0$ (again here we used the fact that $A$ is Hurwitz). On the other hand, at $t=0$, we get $P_1 - P_2 = M = 0$, which contradicts our hypothesis that $P_1 \\neq P_2$. Therefore, if $A$ is Hurwitz, and a solution $P\\succ 0$ exists for $\\mathcal{L}(P)=-Q$, it must be unique."
   ]
  },
  {
   "cell_type": "markdown",
   "metadata": {},
   "source": [
    "## (e) [10 points] Monotonicity of the solution of Lyapunov matrix equation\n",
    "\n",
    "For an LTI system with $A$ Hurwitz, prove that if $Q_1 \\succ Q_2$, then $P_1 \\succ P_2$. \n",
    "\n",
    "(The converse is false, but you don't need to prove that.)\n",
    "\n",
    "### Solution: ###\n",
    "\n",
    "We have $A^{\\top} P_{1}+P_{1} A=-Q_{1}$ and $A^{\\top} P_{2}+P_{2} A=-Q_{2}$. Now $Q_1 \\succ Q_2 \\succ 0$ implies\n",
    "\n",
    "$$e^{A^{\\top} t} Q_{1} e^{A t} \\succ e^{A^{\\top} t} Q_{2} e^{A t} \\Rightarrow \\int_{0}^{\\infty} e^{A^{\\top} t} Q_{1} e^{A t} \\mathrm{d} t \\succ \\int_{0}^{\\infty} e^{A^{\\top} t} Q_{2} e^{A t} \\mathrm{d} t \\Leftrightarrow P_{1} \\succ P_{2}.$$\n",
    "\n",
    "This completes the proof."
   ]
  },
  {
   "cell_type": "code",
   "execution_count": null,
   "metadata": {},
   "outputs": [],
   "source": []
  }
 ],
 "metadata": {
  "kernelspec": {
   "display_name": "Python 2",
   "language": "python",
   "name": "python2"
  },
  "language_info": {
   "codemirror_mode": {
    "name": "ipython",
    "version": 2
   },
   "file_extension": ".py",
   "mimetype": "text/x-python",
   "name": "python",
   "nbconvert_exporter": "python",
   "pygments_lexer": "ipython2",
   "version": "2.7.16"
  }
 },
 "nbformat": 4,
 "nbformat_minor": 2
}
